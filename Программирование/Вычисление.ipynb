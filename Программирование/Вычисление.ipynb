{
  "nbformat": 4,
  "nbformat_minor": 0,
  "metadata": {
    "colab": {
      "provenance": []
    },
    "kernelspec": {
      "name": "python3",
      "display_name": "Python 3"
    },
    "language_info": {
      "name": "python"
    }
  },
  "cells": [
    {
      "cell_type": "code",
      "source": [
        "name = \"Иван\"\n",
        "print('Меня зовут:', name)"
      ],
      "metadata": {
        "id": "gHfl00vBE4-R",
        "colab": {
          "base_uri": "https://localhost:8080/"
        },
        "outputId": "57f9f16c-fa02-44da-bae8-d178a374bde7"
      },
      "execution_count": null,
      "outputs": [
        {
          "output_type": "stream",
          "name": "stdout",
          "text": [
            "Меня зовут: Иван\n"
          ]
        }
      ]
    },
    {
      "cell_type": "markdown",
      "source": [
        "*Отобразите полученное ФИО*. Например, на вход подавалось Иван Алексеевич Петров, тогда на выходе будет: ИАП.\n",
        "\n"
      ],
      "metadata": {
        "id": "26bPDzGwX2cC"
      }
    },
    {
      "cell_type": "code",
      "source": [
        "name = input('Фамилия, имя, отчество:\\n').split(' ')\n",
        "\n",
        "def dot(string):\n",
        "\treturn string + '.'\n",
        "\n",
        "print(dot(name[0][0]), dot(name[1][0]), dot(name[2][0]))"
      ],
      "metadata": {
        "colab": {
          "base_uri": "https://localhost:8080/"
        },
        "id": "8p3vnRMb1uGH",
        "outputId": "30909c85-94ee-4fc9-8e18-7cc4474ec16d"
      },
      "execution_count": null,
      "outputs": [
        {
          "output_type": "stream",
          "name": "stdout",
          "text": [
            "Фамилия, имя, отчество\n",
            "Чапаев Василий Иванович\n",
            "Ч. В. И.\n"
          ]
        }
      ]
    },
    {
      "cell_type": "markdown",
      "metadata": {
        "id": "s1oufOQpEs1r"
      },
      "source": [
        "*Напишите (измените) программу ввода и вывода своей даты рождения и возраста (сколько вам исполнится (исполнилось) в 2022).*"
      ]
    },
    {
      "cell_type": "code",
      "source": [
        "day = 19\n",
        "month = \"января\"\n",
        "year = 2003\n",
        "age = 2022-year\n",
        "print(\"Я родился {day} {month} {year}, в 2022 году мне {age} лет\".format(day=day, month=month, year=year, age=age))"
      ],
      "metadata": {
        "id": "r95RQhWZF9dh",
        "colab": {
          "base_uri": "https://localhost:8080/"
        },
        "outputId": "67f300d8-b6fb-4546-fd63-a21d04bae753"
      },
      "execution_count": null,
      "outputs": [
        {
          "output_type": "stream",
          "name": "stdout",
          "text": [
            "Я родился 19 января 2003, в 2022 году мне 19 лет\n"
          ]
        }
      ]
    },
    {
      "cell_type": "markdown",
      "source": [
        "*Узнайте магическое число вашей даты рождения. Для этого сложите все цифры в ней*, например:"
      ],
      "metadata": {
        "id": "2Xs58c4IKJ_g"
      }
    },
    {
      "cell_type": "code",
      "source": [
        "19+1+2+3"
      ],
      "metadata": {
        "colab": {
          "base_uri": "https://localhost:8080/"
        },
        "id": "qwRPL1gbKmRG",
        "outputId": "071b5126-a8d3-4a4d-e6dc-50e0d148ae70"
      },
      "execution_count": null,
      "outputs": [
        {
          "output_type": "execute_result",
          "data": {
            "text/plain": [
              "25"
            ]
          },
          "metadata": {},
          "execution_count": 22
        }
      ]
    },
    {
      "cell_type": "code",
      "source": [
        "2+5"
      ],
      "metadata": {
        "colab": {
          "base_uri": "https://localhost:8080/"
        },
        "id": "k5hdTGdaKrNu",
        "outputId": "996ef1d7-49f4-451a-8d4e-88bac76634db"
      },
      "execution_count": null,
      "outputs": [
        {
          "output_type": "execute_result",
          "data": {
            "text/plain": [
              "7"
            ]
          },
          "metadata": {},
          "execution_count": 25
        }
      ]
    },
    {
      "cell_type": "markdown",
      "metadata": {
        "id": "DJ8qsrx_Es1r"
      },
      "source": [
        "##Графический образ"
      ]
    },
    {
      "cell_type": "code",
      "source": [
        "from IPython.display import Image\n",
        "Image(url = 'https://i.ibb.co/6m9GhmC/ebisu.png')"
      ],
      "metadata": {
        "colab": {
          "base_uri": "https://localhost:8080/",
          "height": 221
        },
        "id": "fqE-SWZ9GdMx",
        "outputId": "c1afc53e-3eab-43be-bbda-3390e7a27c59"
      },
      "execution_count": null,
      "outputs": [
        {
          "output_type": "execute_result",
          "data": {
            "text/html": [
              "<img src=\"https://i.ibb.co/6m9GhmC/ebisu.png\"/>"
            ],
            "text/plain": [
              "<IPython.core.display.Image object>"
            ]
          },
          "metadata": {},
          "execution_count": 24
        }
      ]
    }
  ]
}