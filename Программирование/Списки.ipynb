{
  "nbformat": 4,
  "nbformat_minor": 0,
  "metadata": {
    "colab": {
      "provenance": []
    },
    "kernelspec": {
      "name": "python3",
      "display_name": "Python 3"
    },
    "language_info": {
      "name": "python"
    }
  },
  "cells": [
    {
      "cell_type": "markdown",
      "source": [
        "##Задача «Четные индексы»"
      ],
      "metadata": {
        "id": "m0mvicEb1iKh"
      }
    },
    {
      "cell_type": "code",
      "execution_count": null,
      "metadata": {
        "colab": {
          "base_uri": "https://localhost:8080/"
        },
        "id": "jPuTIKn01iKk",
        "outputId": "d5aeaa2e-14ec-4e1d-c98e-65140ec0b159"
      },
      "outputs": [
        {
          "output_type": "stream",
          "name": "stdout",
          "text": [
            "5 12 -12 -999 8 10 60 5\n",
            "['5', '-12', '8', '60']\n"
          ]
        }
      ],
      "source": [
        "print(input().split(' ')[::2])"
      ]
    },
    {
      "cell_type": "markdown",
      "source": [
        "##Задача «Четные элементы»"
      ],
      "metadata": {
        "id": "0xm6bfo61iRB"
      }
    },
    {
      "cell_type": "code",
      "execution_count": null,
      "metadata": {
        "id": "6wsH-v0y1iRE"
      },
      "outputs": [],
      "source": [
        "array = input().split(' ')\n",
        "\n",
        "for elem in array:\n",
        "    elem = int(elem)\n",
        "    if (elem % 2 == 0) and elem != 0:\n",
        "        print(elem)"
      ]
    },
    {
      "cell_type": "markdown",
      "source": [
        "##Задача «Больше предыдущего»"
      ],
      "metadata": {
        "id": "D3yZZFjb1iqJ"
      }
    },
    {
      "cell_type": "code",
      "execution_count": null,
      "metadata": {
        "colab": {
          "base_uri": "https://localhost:8080/"
        },
        "id": "dTzwU5yf1iqN",
        "outputId": "af2e0066-4624-4960-ae67-77fe960d453b"
      },
      "outputs": [
        {
          "output_type": "stream",
          "name": "stdout",
          "text": [
            "1 2 50 49 48 47 2\n",
            "2\n",
            "50\n"
          ]
        }
      ],
      "source": [
        "array = input().split(' ')\n",
        "\n",
        "for i in range(len(array)):\n",
        "    if (array[i] > array[i-1]) and i > 0:\n",
        "        print(array[i])\n",
        ""
      ]
    },
    {
      "cell_type": "markdown",
      "source": [
        "##Задача «Соседи одного знака»"
      ],
      "metadata": {
        "id": "sxY6pQx11i-K"
      }
    },
    {
      "cell_type": "code",
      "execution_count": null,
      "metadata": {
        "colab": {
          "base_uri": "https://localhost:8080/"
        },
        "id": "IuVon87g1i-O",
        "outputId": "f77c842a-a6fa-4968-c6fd-c7c1e136190a"
      },
      "outputs": [
        {
          "output_type": "stream",
          "name": "stdout",
          "text": [
            "-1 0 -2 50 60 -5 -9\n",
            "60 50\n"
          ]
        }
      ],
      "source": [
        "array = [int(string) for string in input().split(' ')]\n",
        "\n",
        "for i in range(1, len(array)):\n",
        "    elem = array[i]\n",
        "    previous = array[i-1]\n",
        "    if ((elem >= 0) and (previous >= 0)) or ((elem < 0) and (previous < 0)):\n",
        "        print(elem, previous)\n",
        "        break\n",
        "## в этом алгоритме 0 считается за положительное число"
      ]
    },
    {
      "cell_type": "markdown",
      "source": [
        "##Задача «Больше своих соседей»"
      ],
      "metadata": {
        "id": "-BK1H-tb1jQC"
      }
    },
    {
      "cell_type": "code",
      "execution_count": null,
      "metadata": {
        "colab": {
          "base_uri": "https://localhost:8080/"
        },
        "id": "K1KVJWuD1jQF",
        "outputId": "b0a4dd5b-fe52-47ee-c818-190f592d33cf"
      },
      "outputs": [
        {
          "output_type": "stream",
          "name": "stdout",
          "text": [
            "50 100 50 100 0 1 1 2\n",
            "2\n"
          ]
        }
      ],
      "source": [
        "array = [int(string) for string in input().split(' ')]\n",
        "counter = 0\n",
        "\n",
        "for i in range(1, len(array)-1):\n",
        "    elem = array[i]\n",
        "    previous = array[i-1]\n",
        "    _next = array[i+1]\n",
        "    if elem > _next and elem > previous:\n",
        "        counter = counter + 1\n",
        "\n",
        "print(counter)"
      ]
    },
    {
      "cell_type": "markdown",
      "source": [
        "##Задача «Наибольший элемент»"
      ],
      "metadata": {
        "id": "DyhaR-xP1jVt"
      }
    },
    {
      "cell_type": "code",
      "execution_count": null,
      "metadata": {
        "colab": {
          "base_uri": "https://localhost:8080/"
        },
        "id": "xpherePN1jVt",
        "outputId": "56a9ee50-fa9e-48df-aac8-d41792fd91fd"
      },
      "outputs": [
        {
          "output_type": "stream",
          "name": "stdout",
          "text": [
            "-59 15 1000 99999 0 12 125 61\n",
            "99999 3\n"
          ]
        }
      ],
      "source": [
        "array = [int(string) for string in input().split(' ')]\n",
        "maximum = max(array)\n",
        "\n",
        "print(maximum, array.index(maximum))"
      ]
    },
    {
      "cell_type": "markdown",
      "source": [
        "##Задача «Шеренга»"
      ],
      "metadata": {
        "id": "fko2dZBm1jan"
      }
    },
    {
      "cell_type": "code",
      "execution_count": null,
      "metadata": {
        "colab": {
          "base_uri": "https://localhost:8080/"
        },
        "id": "Al7H5HD01jap",
        "outputId": "bb27239d-03cd-4394-c580-ebe3f15a5f57"
      },
      "outputs": [
        {
          "output_type": "stream",
          "name": "stdout",
          "text": [
            "169 149 146 145 145 145 145 142 142 140 140 138 138 137 133 129 125 125 122 118 116 114\n",
            "125\n",
            "19\n"
          ]
        }
      ],
      "source": [
        "array = [int(string) for string in input().split(' ')]\n",
        "height = int(input())\n",
        "\n",
        "arrayWithoutSameHeights = list(filter(lambda h: h != height, array))\n",
        "sameCount = len(array) - len(arrayWithoutSameHeights)\n",
        "\n",
        "arrayWithoutSameHeights.append(height)\n",
        "arrayWithoutSameHeights.sort(reverse=True)\n",
        "\n",
        "print(arrayWithoutSameHeights.index(height)+1+sameCount)"
      ]
    },
    {
      "cell_type": "markdown",
      "source": [
        "##Задача «Количество различных элементов»"
      ],
      "metadata": {
        "id": "NPviucdh1jgV"
      }
    },
    {
      "cell_type": "code",
      "execution_count": null,
      "metadata": {
        "colab": {
          "base_uri": "https://localhost:8080/"
        },
        "id": "hhVEKd4O1jgV",
        "outputId": "e4364268-5eec-4529-daab-a573127790ab"
      },
      "outputs": [
        {
          "output_type": "stream",
          "name": "stdout",
          "text": [
            "1 1 2 1 1 3 1 1 4 1 1 5 0\n",
            "6\n"
          ]
        }
      ],
      "source": [
        "array = [int(string) for string in input().split(' ')]\n",
        "\n",
        "print(len(set(array)))"
      ]
    },
    {
      "cell_type": "markdown",
      "source": [
        "##Задача «Переставить соседние»"
      ],
      "metadata": {
        "id": "wM6WxvEr1jj9"
      }
    },
    {
      "cell_type": "code",
      "execution_count": null,
      "metadata": {
        "colab": {
          "base_uri": "https://localhost:8080/"
        },
        "id": "YnZLQDlu1jj-",
        "outputId": "c46d05c0-223d-4163-ed30-f9400a3668c5"
      },
      "outputs": [
        {
          "output_type": "stream",
          "name": "stdout",
          "text": [
            "1 2 3 4 5 6 0 7 8\n",
            "[2, 1, 4, 3, 6, 5, 7, 0, 8]\n"
          ]
        }
      ],
      "source": [
        "array = [int(string) for string in input().split(' ')]\n",
        "i = 0\n",
        "\n",
        "while i < len(array)-1:\n",
        "    array[i], array[i+1] = array[i+1], array[i]\n",
        "    i = i + 2\n",
        "\n",
        "print(array)"
      ]
    },
    {
      "cell_type": "markdown",
      "source": [
        "##Задача «Переставить min и max»"
      ],
      "metadata": {
        "id": "vKnXMXGA1jrB"
      }
    },
    {
      "cell_type": "code",
      "execution_count": null,
      "metadata": {
        "colab": {
          "base_uri": "https://localhost:8080/"
        },
        "id": "3DkoV6oc1jrE",
        "outputId": "5d27701e-4da7-413a-c4a5-9ca0540af37f"
      },
      "outputs": [
        {
          "output_type": "stream",
          "name": "stdout",
          "text": [
            "0 1 2 3 4 5 6\n",
            "[6, 1, 2, 3, 4, 5, 0]\n"
          ]
        }
      ],
      "source": [
        "array = [int(string) for string in input().split(' ')]\n",
        "\n",
        "#array[array.index(min(array))], array[array.index(max(array))] = array[array.index(max(array))], array[array.index(min(array))] — почему-то не работает\n",
        "def swapIndexesIn(arr, a, b):\n",
        "    arr[a], arr[b] = arr[b], arr[a]\n",
        "    return arr\n",
        "\n",
        "swapIndexesIn(array, array.index(min(array)), array.index(max(array)))\n",
        "\n",
        "print(array)"
      ]
    },
    {
      "cell_type": "markdown",
      "source": [
        "##Задача «Удалить элемент»"
      ],
      "metadata": {
        "id": "SoYuOwa51jt3"
      }
    },
    {
      "cell_type": "code",
      "execution_count": null,
      "metadata": {
        "colab": {
          "base_uri": "https://localhost:8080/"
        },
        "id": "q_HLCNT81jt4",
        "outputId": "23f01a94-fc03-498a-c0e1-5021aa609044"
      },
      "outputs": [
        {
          "output_type": "stream",
          "name": "stdout",
          "text": [
            "5 14 15 18 42 28 2 15 28 22\n",
            "1\n",
            "[5, 18, 42, 28, 2, 15, 28, 22, 14]\n"
          ]
        }
      ],
      "source": [
        "array = [int(string) for string in input().split(' ')]\n",
        "elemToRemove = int(input())\n",
        "\n",
        "for elem in array:\n",
        "    index = array.index(elem)\n",
        "    if index == elemToRemove:\n",
        "        for i in range(index, len(array)-1):\n",
        "            array[i], array[i+1] = array[i+1], array[i]\n",
        "\n",
        "array.pop()\n",
        "\n",
        "print(array)"
      ]
    },
    {
      "cell_type": "markdown",
      "source": [
        "<img src = \"https://naive-museum.ru/wp-content/uploads/2020/07/trolleibus-iz-hleba.jpg\">"
      ],
      "metadata": {
        "id": "XhySqWxNQumX"
      }
    },
    {
      "cell_type": "markdown",
      "source": [
        "##Задача «Вставить элемент»"
      ],
      "metadata": {
        "id": "f4db8y1k1j3Z"
      }
    },
    {
      "cell_type": "code",
      "execution_count": null,
      "metadata": {
        "colab": {
          "base_uri": "https://localhost:8080/"
        },
        "id": "qfQDHiL61j3b",
        "outputId": "f2a83dad-26d6-4132-f88b-be3510ef52cc"
      },
      "outputs": [
        {
          "output_type": "stream",
          "name": "stdout",
          "text": [
            "1 2 3 4 5\n",
            "3 99\n",
            "[1, 2, 3, 99, 4, 5]\n"
          ]
        }
      ],
      "source": [
        "array = [int(string) for string in input().split(' ')]\n",
        "indexAndValue = [int(string) for string in input().split(' ')]\n",
        "index = indexAndValue[0]\n",
        "value = indexAndValue[1]\n",
        "\n",
        "array.append(value)\n",
        "i = len(array)-1\n",
        "\n",
        "while i > index:\n",
        "    array[i-1], array[i] = array[i], array[i-1]\n",
        "    i = i - 1\n",
        "\n",
        "print(array)"
      ]
    },
    {
      "cell_type": "markdown",
      "source": [
        "##Задача «Количество совпадающих пар»"
      ],
      "metadata": {
        "id": "4XZ0Romi1j5l"
      }
    },
    {
      "cell_type": "code",
      "execution_count": null,
      "metadata": {
        "colab": {
          "base_uri": "https://localhost:8080/"
        },
        "id": "WTGaYbTs1j5m",
        "outputId": "b510e782-0f67-41ad-d735-4ff0db61e8bb"
      },
      "outputs": [
        {
          "output_type": "stream",
          "name": "stdout",
          "text": [
            "0 0 6 1 1 4 2 1 2 2\n",
            "7\n"
          ]
        }
      ],
      "source": [
        "array = [int(string) for string in input().split(' ')]\n",
        "length = len(array)\n",
        "counter = 0\n",
        "\n",
        "for index in range(0, length-1):\n",
        "    elem = array[index]\n",
        "    for i in range(index+1, length):\n",
        "        if array[i] == elem:\n",
        "            counter = counter + 1\n",
        "\n",
        "print(counter)"
      ]
    },
    {
      "cell_type": "markdown",
      "source": [
        "##Задача «Уникальные элементы»"
      ],
      "metadata": {
        "id": "Td91sSlo1kE5"
      }
    },
    {
      "cell_type": "code",
      "execution_count": null,
      "metadata": {
        "colab": {
          "base_uri": "https://localhost:8080/"
        },
        "id": "Qp9ufsjF1kE7",
        "outputId": "e96e0566-8ed8-4dfa-e34b-5d8bbb83fdc4"
      },
      "outputs": [
        {
          "output_type": "stream",
          "name": "stdout",
          "text": [
            "4 2 9 3 2 9 7 8 4\n",
            "3\n",
            "7\n",
            "8\n"
          ]
        }
      ],
      "source": [
        "array = [int(string) for string in input().split(' ')]\n",
        "length = len(array)\n",
        "\n",
        "for index in range(0, length):\n",
        "    elem = array[index]\n",
        "    flag = False\n",
        "    for i in range(0, length):\n",
        "        if array[i] == elem and i != index:\n",
        "            flag = True\n",
        "            break\n",
        "    if flag == False:\n",
        "        print(elem)"
      ]
    },
    {
      "cell_type": "markdown",
      "source": [
        "##"
      ],
      "metadata": {
        "id": "Ho_4jZaQ1kG9"
      }
    },
    {
      "cell_type": "code",
      "execution_count": null,
      "metadata": {
        "id": "t_Ej3mZX1kG9",
        "colab": {
          "base_uri": "https://localhost:8080/"
        },
        "outputId": "e16ebe59-75df-4f7c-f808-18980465cdce"
      },
      "outputs": [
        {
          "output_type": "stream",
          "name": "stdout",
          "text": [
            "10 3\n",
            "1 3\n",
            "4 5\n",
            "8 10\n",
            ".....II...\n"
          ]
        }
      ],
      "source": [
        "first = [int(string) for string in input().split(' ')]\n",
        "length = first[0]\n",
        "throws = first[1]\n",
        "row = ['I']*length\n",
        "rng = [0, 0]\n",
        "\n",
        "for i in range(throws):\n",
        "    rng = [int(string) for string in input().split(' ')]\n",
        "    for pin in range(rng[0]-1, rng[1]):\n",
        "        row[pin] = '.'\n",
        "\n",
        "print(''.join(row))"
      ]
    },
    {
      "cell_type": "markdown",
      "source": [
        "##Задача «Ферзи»"
      ],
      "metadata": {
        "id": "ehZPYjv21gw7"
      }
    },
    {
      "cell_type": "markdown",
      "source": [
        "Я хотел сделать так, чтобы рассчитывались ходы ферзей в положительных областях осей XY, и потом из них высчитывать возможные ходы в других областях, потому что ходы симметричны вдоль каждой оси. Однако я не придумал, как сделать часть с другими областями, так что оставил код только для ходов в положительной части.<br>\n",
        "Я уверен, что эту задачу можно легко решить с помощью тригонометрии, но мне не хватает знаний и желания разбираться в ней, хотя сама задача интересная."
      ],
      "metadata": {
        "id": "3PXxI187bo5Z"
      }
    },
    {
      "cell_type": "code",
      "execution_count": null,
      "metadata": {
        "id": "oJc1O_0v1cAB",
        "colab": {
          "base_uri": "https://localhost:8080/"
        },
        "outputId": "32ef8ba9-ddc0-4571-cb77-6e311cd4b3ed"
      },
      "outputs": [
        {
          "output_type": "stream",
          "name": "stdout",
          "text": [
            "1 7\n",
            "2 3\n",
            "5 1\n",
            "8 4\n",
            "6 3\n",
            "8 1\n",
            "5 5\n",
            "4 8\n",
            "vertical | horizontal\n",
            "[2, 7]\n",
            "[3, 7]\n",
            "[4, 7]\n",
            "[5, 7]\n",
            "[6, 7]\n",
            "[7, 7]\n",
            "[8, 7]\n",
            "[1, 8]\n",
            "[3, 3]\n",
            "[4, 3]\n",
            "[5, 3]\n",
            "[6, 3]\n",
            "[7, 3]\n",
            "[8, 3]\n",
            "[2, 4]\n",
            "[2, 5]\n",
            "[2, 6]\n",
            "[2, 7]\n",
            "[2, 8]\n",
            "[6, 1]\n",
            "[7, 1]\n",
            "[8, 1]\n",
            "[5, 2]\n",
            "[5, 3]\n",
            "[5, 4]\n",
            "[5, 5]\n",
            "[5, 6]\n",
            "[5, 7]\n",
            "[5, 8]\n",
            "[8, 5]\n",
            "[8, 6]\n",
            "[8, 7]\n",
            "[8, 8]\n",
            "[7, 3]\n",
            "[8, 3]\n",
            "[6, 4]\n",
            "[6, 5]\n",
            "[6, 6]\n",
            "[6, 7]\n",
            "[6, 8]\n",
            "[8, 2]\n",
            "[8, 3]\n",
            "[8, 4]\n",
            "[8, 5]\n",
            "[8, 6]\n",
            "[8, 7]\n",
            "[8, 8]\n",
            "[6, 5]\n",
            "[7, 5]\n",
            "[8, 5]\n",
            "[5, 6]\n",
            "[5, 7]\n",
            "[5, 8]\n",
            "[5, 8]\n",
            "[6, 8]\n",
            "[7, 8]\n",
            "[8, 8]\n",
            "diagonal\n",
            "[2, 8]\n",
            "[3, 4]\n",
            "[4, 5]\n",
            "[5, 6]\n",
            "[6, 7]\n",
            "[7, 8]\n",
            "[6, 2]\n",
            "[7, 3]\n",
            "[8, 4]\n",
            "[7, 4]\n",
            "[8, 5]\n",
            "[6, 6]\n",
            "[7, 7]\n",
            "[8, 8]\n"
          ]
        }
      ],
      "source": [
        "count = 8\n",
        "side = 8\n",
        "positions = []\n",
        "possiblePositions = []\n",
        "for i in range(count):\n",
        "    positions.append([int(string) for string in input().split(' ')])\n",
        "\n",
        "print('vertical | horizontal')\n",
        "for position in positions:\n",
        "    for axis in range(len(position)):\n",
        "        possible = list(position)\n",
        "        while possible[axis] < side:\n",
        "            possible[axis] += 1\n",
        "            print(possible)\n",
        "            possiblePositions.append(possible)\n",
        "\n",
        "print('diagonal')\n",
        "for position in positions:\n",
        "    possible = list(position)\n",
        "    while side not in possible:\n",
        "        possible = [(coordinate + 1) for coordinate in possible]\n",
        "        print(possible)\n",
        "        possiblePositions.append(possible)"
      ]
    }
  ]
}