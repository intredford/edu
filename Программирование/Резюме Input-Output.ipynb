{
  "nbformat": 4,
  "nbformat_minor": 0,
  "metadata": {
    "colab": {
      "provenance": []
    },
    "kernelspec": {
      "name": "python3",
      "display_name": "Python 3"
    },
    "language_info": {
      "name": "python"
    }
  },
  "cells": [
    {
      "cell_type": "markdown",
      "source": [
        "#Задание 1. Ввод и вывод данных"
      ],
      "metadata": {
        "id": "LAxZj2q3fDlR"
      }
    },
    {
      "cell_type": "markdown",
      "source": [
        "##Задача «Сумма трёх чисел»"
      ],
      "metadata": {
        "id": "q5f8hlNKfNBa"
      }
    },
    {
      "cell_type": "code",
      "source": [
        "a = int(input('a: '))\n",
        "b = int(input('b: '))\n",
        "c = int(input('c: '))\n",
        "print('sum:', a+b+c)"
      ],
      "metadata": {
        "colab": {
          "base_uri": "https://localhost:8080/"
        },
        "id": "Y38QCDYkfJv_",
        "outputId": "79f1c015-7716-4833-b207-0b1116ed2c72"
      },
      "execution_count": null,
      "outputs": [
        {
          "output_type": "stream",
          "name": "stdout",
          "text": [
            "a: 2\n",
            "b: 2\n",
            "c: 10\n",
            "sum: 14\n"
          ]
        }
      ]
    },
    {
      "cell_type": "markdown",
      "source": [
        "##Задача «Площадь прямоугольного треугольника»"
      ],
      "metadata": {
        "id": "FgUfiv3Sf8QN"
      }
    },
    {
      "cell_type": "code",
      "source": [
        "b = int(input('катет 1: '))\n",
        "h = int(input('катет 2: '))\n",
        "area = (b*h)/2\n",
        "print('Площадь:', area)"
      ],
      "metadata": {
        "colab": {
          "base_uri": "https://localhost:8080/"
        },
        "id": "50oKufiBf-XU",
        "outputId": "327f44e6-dcc2-4f24-8a92-d47327b78d0b"
      },
      "execution_count": null,
      "outputs": [
        {
          "output_type": "stream",
          "name": "stdout",
          "text": [
            "катет 15\n",
            "катет 22\n",
            "5.0\n"
          ]
        }
      ]
    },
    {
      "cell_type": "markdown",
      "source": [
        "##Задача «Дележ яблок»"
      ],
      "metadata": {
        "id": "QXIkoU79gIIV"
      }
    },
    {
      "cell_type": "code",
      "source": [
        "from math import floor\n",
        "\n",
        "people = int(input('К-во школьников: '))\n",
        "apples = int(input('К-во яблок: '))\n",
        "divided = floor(apples/people)\n",
        "rest = apples % people\n",
        "\n",
        "print(divided, rest)"
      ],
      "metadata": {
        "colab": {
          "base_uri": "https://localhost:8080/"
        },
        "id": "lsDp9oOHgLfX",
        "outputId": "7a05e04f-19df-4f0f-b133-b62ca25f228e"
      },
      "execution_count": null,
      "outputs": [
        {
          "output_type": "stream",
          "name": "stdout",
          "text": [
            "К-во школьников: 10\n",
            "К-во яблок: 21\n",
            "2 1\n"
          ]
        }
      ]
    },
    {
      "cell_type": "markdown",
      "source": [
        "##Задача «Электронные часы»"
      ],
      "metadata": {
        "id": "I8RhyAxdhNfh"
      }
    },
    {
      "cell_type": "code",
      "source": [
        "from math import floor\n",
        "from time import strftime\n",
        "from time import gmtime\n",
        "\n",
        "n = int(input('\\n'))\n",
        "minutes = n % 60\n",
        "hours = n // 60\n",
        "\n",
        "print(strftime(\"%H:%M\", gmtime(n*60)))"
      ],
      "metadata": {
        "colab": {
          "base_uri": "https://localhost:8080/"
        },
        "id": "TxmVHnVBhqVb",
        "outputId": "43c1d2ad-5548-43c4-8795-7030f378c8ee"
      },
      "execution_count": null,
      "outputs": [
        {
          "output_type": "stream",
          "name": "stdout",
          "text": [
            "\n",
            "128\n",
            "02:08\n"
          ]
        }
      ]
    },
    {
      "cell_type": "markdown",
      "source": [
        "##Задача «Hello, Harry!»"
      ],
      "metadata": {
        "id": "Si3OtbsklPi9"
      }
    },
    {
      "cell_type": "code",
      "source": [
        "name = input()\n",
        "print('Hello, {name}!'.format(name=name))"
      ],
      "metadata": {
        "colab": {
          "base_uri": "https://localhost:8080/"
        },
        "id": "tbWfL7eplU83",
        "outputId": "0ff31836-8492-4246-d7da-f87d67e98b83"
      },
      "execution_count": null,
      "outputs": [
        {
          "output_type": "stream",
          "name": "stdout",
          "text": [
            "Harry\n",
            "Hello, Harry!\n"
          ]
        }
      ]
    },
    {
      "cell_type": "markdown",
      "source": [
        "##Задача «Следующее и предыдущее»"
      ],
      "metadata": {
        "id": "HEOot6yLlnkh"
      }
    },
    {
      "cell_type": "code",
      "source": [
        "n = int(input())\n",
        "next = n+1\n",
        "prev = n-1\n",
        "\n",
        "print('The next number for {n} is {next}'.format(n=n, next=next))\n",
        "print('The previous number for {n} is {prev}'.format(n=n, prev=prev))"
      ],
      "metadata": {
        "colab": {
          "base_uri": "https://localhost:8080/"
        },
        "id": "TqDBMHznlzkL",
        "outputId": "7dfb8edc-7648-4e6d-8cdd-a13c9a820e7a"
      },
      "execution_count": null,
      "outputs": [
        {
          "output_type": "stream",
          "name": "stdout",
          "text": [
            "512\n",
            "The next number for 512 is 513\n",
            "The previous number for 512 is 511\n"
          ]
        }
      ]
    },
    {
      "cell_type": "markdown",
      "source": [
        "##Задача «Парты»"
      ],
      "metadata": {
        "id": "Gx53vxO1owEt"
      }
    },
    {
      "cell_type": "code",
      "source": [
        "from math import ceil\n",
        "\n",
        "first = int(input())\n",
        "second = int(input())\n",
        "third = int(input())\n",
        "\n",
        "def getTables(n):\n",
        "    return ceil(n/2)\n",
        "\n",
        "print(getTables(first) + getTables(second) + getTables(third))"
      ],
      "metadata": {
        "colab": {
          "base_uri": "https://localhost:8080/"
        },
        "id": "fjB7uwH_oy4i",
        "outputId": "4fb7aca6-1b08-46c8-bf15-f424003ee7c5"
      },
      "execution_count": null,
      "outputs": [
        {
          "output_type": "stream",
          "name": "stdout",
          "text": [
            "31\n",
            "28\n",
            "19\n",
            "40\n"
          ]
        }
      ]
    },
    {
      "cell_type": "markdown",
      "source": [
        "##Задача «Парты»\n",
        "Картинка со шнуровкой не загружается..."
      ],
      "metadata": {
        "id": "87wC0sjgJmls"
      }
    }
  ]
}