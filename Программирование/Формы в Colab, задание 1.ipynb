{
  "nbformat": 4,
  "nbformat_minor": 0,
  "metadata": {
    "colab": {
      "provenance": []
    },
    "kernelspec": {
      "name": "python3",
      "display_name": "Python 3"
    },
    "language_info": {
      "name": "python"
    }
  },
  "cells": [
    {
      "cell_type": "markdown",
      "source": [
        "#Оформление заказа"
      ],
      "metadata": {
        "id": "17ixg9nzuUTc"
      }
    },
    {
      "cell_type": "code",
      "execution_count": null,
      "metadata": {
        "colab": {
          "base_uri": "https://localhost:8080/"
        },
        "id": "YRrGqzEVoI-x",
        "outputId": "c4eeac8f-5fd7-4d22-d3b6-9da7161efc78"
      },
      "outputs": [
        {
          "output_type": "stream",
          "name": "stdout",
          "text": [
            "\n",
            "Оформляем заказ...\n",
            "Сумма заказа: 2400 ₽\n"
          ]
        }
      ],
      "source": [
        "import random\n",
        "from string import ascii_letters\n",
        "\n",
        "class Order:\n",
        "  def __init__(self, firstName, secondName, sex, phone, email, product, quantity, subscription):\n",
        "    self.firstName = firstName\n",
        "    self.secondName = secondName\n",
        "    self.sex = sex\n",
        "    self.phone = phone\n",
        "    self.email = email\n",
        "    self.product = product\n",
        "    self.quantity = quantity\n",
        "    self.subscription = subscription\n",
        "\n",
        "  def validate(self):\n",
        "    validated = FormValidator(firstName=self.firstName, secondName=self.secondName, sex=self.sex, phone=self.phone, email=self.email, product=self.product, quantity=self.quantity, subscription=self.subscription).validate()\n",
        "    print(validated[\"message\"])\n",
        "    return validated[\"status\"]\n",
        "\n",
        "  def make(self):\n",
        "    valid = self.validate() == True\n",
        "    if valid:\n",
        "      print('Оформляем заказ...')\n",
        "      price = Catalog().getPrice(self.product)*self.quantity\n",
        "      print(f'Сумма заказа: {price} ₽')\n",
        "\n",
        "\n",
        "#@markdown ##**Регистрация**\n",
        "firstName = \"Miha\" #@param {type:\"string\"}\n",
        "secondName = \"Petkov\" #@param {type:\"string\"}\n",
        "sex = \"Male\" #@param [\"Male\", \"Female\", \"WTF\"]\n",
        "phone = \"+79500475899\" #@param {type:\"string\"}\n",
        "email = \"mihapetkov1998@mihadev.me\" #@param {type:\"string\"}\n",
        "#@markdown | № | Название      | Цена     |\n",
        "#@markdown | - | --------------| --------:|\n",
        "#@markdown | 1 | Дверная ручка | 600 ₽    |\n",
        "#@markdown | 2 | Дверной замок | 1 200 ₽  |\n",
        "#@markdown | 3 | Коврик        | 300 ₽    |\n",
        "#@markdown | 4 | Обувная ложка | 100 ₽    |\n",
        "#@markdown | 5 | Дверь         | 12 000 ₽ |\n",
        "# Вот так вся абстракция и полетела... Но я всё равно сделал программное\n",
        "# отображение таблицы товаров. Оно есть в Catalog().display()\n",
        "product = \"1\" #@param [\"1\", \"2\", \"3\", \"4\", \"5\"]\n",
        "quantity = 4 #@param {type:\"slider\", min:1, max:10, step:1}\n",
        "subscription = True #@param {type:\"boolean\"}\n",
        "\n",
        "order = Order(firstName, secondName, sex, phone, email, product, quantity, subscription)\n",
        "order.make()\n",
        "#print('Сумма заказа:', getPrice(int(productID))*quantity, '₽')\n",
        "\n",
        "#if subscribed and firstName != '':\n",
        "  #print('{}, кажется, вы забыли убрать галочку с рассылки. Кто вообще подписывается на неё? Тем не менее, раз уж мы тут, то вас также могут заинтересовать наши вешалки!'.format(firstName))\n",
        "\n",
        "#if isFormCorrect == True:\n",
        "  #auth = registerOrder(email)\n",
        "  #print('\\nЗаказ успешно офромен под номером {}. Войдите с логином {} и паролем {}, чтобы посмотреть его статус.'.format(auth['orderID'], auth['email'], auth['password']))\n"
      ]
    },
    {
      "cell_type": "markdown",
      "source": [
        "#Просмотр статуса заказа"
      ],
      "metadata": {
        "id": "7uHqrJhC9JwC"
      }
    },
    {
      "cell_type": "code",
      "source": [
        "#@markdown ##**Проверить статус заказа**\n",
        "userEmail = \"mihapetkov1998@mihadev.me\" #@param {type:\"string\"}\n",
        "userPassword = \"147XAL\" #@param {type:\"string\"}\n",
        "status = [\"В обработке\", \"Сборка\", \"В пути\", \"Ожидает в пункте выдачи\"]\n",
        "\n",
        "if (userEmail == auth['email']) and (userPassword == auth['password']):\n",
        "  print('Статус: {}.'.format(random.choice(status)))\n",
        "else:\n",
        "  print('Неправильный логин или пароль.')"
      ],
      "metadata": {
        "colab": {
          "base_uri": "https://localhost:8080/"
        },
        "id": "QDtUxhj69KDQ",
        "outputId": "261d5d43-3344-483e-9839-4bfe2f0fbed6"
      },
      "execution_count": null,
      "outputs": [
        {
          "output_type": "stream",
          "name": "stdout",
          "text": [
            "Неправильный логин или пароль.\n"
          ]
        }
      ]
    },
    {
      "cell_type": "markdown",
      "source": [
        "#Модули"
      ],
      "metadata": {
        "id": "khBlBQAj9Y3v"
      }
    },
    {
      "cell_type": "markdown",
      "source": [
        "##Регистрация"
      ],
      "metadata": {
        "id": "HpI9sq5i24m1"
      }
    },
    {
      "cell_type": "code",
      "source": [
        "def registerOrder(email):\n",
        "  password = str(random.randrange(99, 1100)) + ''.join([random.choice(ascii_letters) for i in range(3)])\n",
        "  orderID = random.randrange(1, 1000)\n",
        "  return {'password': password, 'email': email, 'orderID': orderID}"
      ],
      "metadata": {
        "id": "vXU0tcvS246M"
      },
      "execution_count": null,
      "outputs": []
    },
    {
      "cell_type": "markdown",
      "source": [
        "## Валидация"
      ],
      "metadata": {
        "id": "AKB37Sh_uWcw"
      }
    },
    {
      "cell_type": "code",
      "source": [
        "class FormValidator:\n",
        "  def __init__(self, firstName, secondName, sex, phone, email, product, quantity, subscription):\n",
        "    self.fields = {\n",
        "        'firstName': firstName,\n",
        "        'secondName': secondName,\n",
        "        'sex': sex,\n",
        "        'phone': phone,\n",
        "        'email': email,\n",
        "        'product': product,\n",
        "        'quantity': quantity,\n",
        "        'subscription': subscription,\n",
        "    }\n",
        "    self.required = ['firstName', 'secondName', 'phone', 'email', 'product']\n",
        "\n",
        "  def validate(self):\n",
        "    notFilled = []\n",
        "    isEmailCorrect = True\n",
        "\n",
        "    for field in self.required:\n",
        "      if self.fields[field] == '':\n",
        "        notFilled.append(field)\n",
        "\n",
        "    if len(self.fields['email'].split('@')) != 2:\n",
        "      isEmailCorrect = False\n",
        "\n",
        "    if len(notFilled) > 0:\n",
        "      result = {\n",
        "        'message': 'Не заполнены обязательные поля: ' + ', '.join(notFilled),\n",
        "        'status': False\n",
        "      }\n",
        "    elif isEmailCorrect == False:\n",
        "      result = {\n",
        "        'message': 'email заполнен некорректно.',\n",
        "        'status': False\n",
        "      }\n",
        "    else:\n",
        "      result = {\n",
        "        'message': '',\n",
        "        'status': True\n",
        "      }\n",
        "    return result"
      ],
      "metadata": {
        "id": "lilE0_b7t4Pg"
      },
      "execution_count": null,
      "outputs": []
    },
    {
      "cell_type": "markdown",
      "source": [
        "## Каталог"
      ],
      "metadata": {
        "id": "I5gJgzkFweHT"
      }
    },
    {
      "cell_type": "code",
      "source": [
        "from IPython.display import Markdown as md\n",
        "\n",
        "class Catalog:\n",
        "  def __init__(self):\n",
        "    self.products = [\n",
        "      {\n",
        "        'id': 1,\n",
        "        'name': 'Дверная ручка',\n",
        "        'price': 600\n",
        "      },\n",
        "      {\n",
        "        'id': 2,\n",
        "        'name': 'Дверной замок',\n",
        "        'price': 1200\n",
        "      },\n",
        "      {\n",
        "        'id': 3,\n",
        "        'name': 'Коврик',\n",
        "        'price': 300\n",
        "      },\n",
        "      {\n",
        "        'id': 4,\n",
        "        'name': 'Обувная ложка',\n",
        "        'price': 100\n",
        "      },\n",
        "      {\n",
        "        'id': 5,\n",
        "        'name': 'Дверь',\n",
        "        'price': 12000\n",
        "      },\n",
        "    ]\n",
        "\n",
        "  def display(self):\n",
        "    table = \"| № | Название      | Цена     |\\n\"+\"| - | --------------| --------:|\\n\"\n",
        "    for product in self.products:\n",
        "      table += f\"| {product['id']} | {product['name']} | {product['price']} ₽ |\\n\"\n",
        "    display(md(table))\n",
        "\n",
        "  def getPrice(self, id):\n",
        "    return list(filter(lambda product: product['id'] == int(id), self.products))[0]['price']\n",
        "\n",
        "Catalog().display()"
      ],
      "metadata": {
        "id": "gqoi6L2Ht5vR",
        "colab": {
          "base_uri": "https://localhost:8080/",
          "height": 206
        },
        "outputId": "8e6c9bbd-98b4-45c1-9b8f-b965a9172300"
      },
      "execution_count": null,
      "outputs": [
        {
          "output_type": "display_data",
          "data": {
            "text/plain": [
              "<IPython.core.display.Markdown object>"
            ],
            "text/markdown": "| № | Название      | Цена     |\n| - | --------------| --------:|\n| 1 | Дверная ручка | 600 ₽ |\n| 2 | Дверной замок | 1200 ₽ |\n| 3 | Коврик | 300 ₽ |\n| 4 | Обувная ложка | 100 ₽ |\n| 5 | Дверь | 12000 ₽ |\n"
          },
          "metadata": {}
        }
      ]
    }
  ]
}