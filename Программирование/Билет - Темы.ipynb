{
  "nbformat": 4,
  "nbformat_minor": 0,
  "metadata": {
    "colab": {
      "provenance": []
    },
    "kernelspec": {
      "name": "python3",
      "display_name": "Python 3"
    },
    "language_info": {
      "name": "python"
    }
  },
  "cells": [
    {
      "cell_type": "markdown",
      "source": [
        "#Темы (8)"
      ],
      "metadata": {
        "id": "rg2h6sMcxXhL"
      }
    },
    {
      "cell_type": "code",
      "execution_count": null,
      "metadata": {
        "colab": {
          "base_uri": "https://localhost:8080/"
        },
        "id": "mKYkuAOWxJ3E",
        "outputId": "b1bb9d0d-0571-45b9-c354-c667b89162f0"
      },
      "outputs": [
        {
          "output_type": "stream",
          "name": "stdout",
          "text": [
            "ддд\n",
            "Темы: ддд, music, books, food, weather.\n",
            "Темы: weather, ддд, music, books, food.\n",
            "['weather', 'ддд', 'music', 'books', 'food']\n",
            "Первая тема: weather\n"
          ]
        }
      ],
      "source": [
        "class Themes:\n",
        "  # инициализация\n",
        "  def __init__(self, themes):\n",
        "    self.themes = themes\n",
        "\n",
        "  # дескриптор\n",
        "  def __str__(self):\n",
        "    return f'Темы: {\", \".join(self.get())}.'\n",
        "\n",
        "  # добавить тему (программно или через интерфейс)\n",
        "  def add(self, theme=\"\", interactive=False):\n",
        "    if interactive:\n",
        "      self.themes.append(input())\n",
        "    else:\n",
        "      self.themes.append(theme)\n",
        "\n",
        "  # сдвинуть темы\n",
        "  def shift(self):\n",
        "    # [a, b, c, d] -> [d, a, b, c]\n",
        "    n = len(self.themes)-1\n",
        "    self.themes = self.themes[n:] + self.themes[:n]\n",
        "\n",
        "  # развернуть список тем\n",
        "  def reverse(self):\n",
        "    self.themes = list(reversed(self.themes))\n",
        "\n",
        "  # получить темы\n",
        "  def get(self):\n",
        "    return self.themes\n",
        "\n",
        "  # получить первую тему\n",
        "  def get_first(self):\n",
        "    return self.themes[0]\n",
        "\n",
        "\n",
        "themes = Themes(['weather', 'food', 'books'])\n",
        "themes.add('music')\n",
        "themes.add(interactive=True)\n",
        "\n",
        "themes.reverse()\n",
        "print(themes)\n",
        "\n",
        "themes.shift()\n",
        "print(themes)\n",
        "\n",
        "print(themes.get())\n",
        "print(f'Первая тема: {themes.get_first()}')\n"
      ]
    },
    {
      "cell_type": "code",
      "source": [],
      "metadata": {
        "id": "to6DRXrQz6zl"
      },
      "execution_count": null,
      "outputs": []
    }
  ]
}