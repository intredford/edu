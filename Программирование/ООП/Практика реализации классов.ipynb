{
  "nbformat": 4,
  "nbformat_minor": 0,
  "metadata": {
    "colab": {
      "provenance": []
    },
    "kernelspec": {
      "name": "python3",
      "display_name": "Python 3"
    },
    "language_info": {
      "name": "python"
    }
  },
  "cells": [
    {
      "cell_type": "markdown",
      "source": [
        "#Задача 1"
      ],
      "metadata": {
        "id": "IMryV6iavdm_"
      }
    },
    {
      "cell_type": "code",
      "execution_count": null,
      "metadata": {
        "colab": {
          "base_uri": "https://localhost:8080/"
        },
        "id": "F2DQy7FKK8jE",
        "outputId": "0fcc5ea1-a002-4afc-fa47-b8bc8449b1fa"
      },
      "outputs": [
        {
          "output_type": "stream",
          "name": "stdout",
          "text": [
            "Пётр, 14 лет. Средний балл: 5.11\n",
            "Виктория, 15 лет. Средний балл: 4.31\n",
            "Арсений, 15 лет. Средний балл: 4.27\n",
            "Константин, 14 лет. Средний балл: 4.22\n",
            "Елисей, 15 лет. Средний балл: 4.2\n",
            "Мария, 14 лет. Средний балл: 4.17\n",
            "Екатерина, 15 лет. Средний балл: 4.13\n",
            "Владимир, 14 лет. Средний балл: 4.1\n",
            "Роман, 14 лет. Средний балл: 4.1\n",
            "Артём, 14 лет. Средний балл: 3.95\n",
            "Ада, 15 лет. Средний балл: 3.89\n",
            "Софья, 14 лет. Средний балл: 3.89\n",
            "Полина, 14 лет. Средний балл: 3.87\n",
            "Аглая, 14 лет. Средний балл: 3.83\n",
            "Арина, 15 лет. Средний балл: 3.73\n",
            "Татьяна, 14 лет. Средний балл: 3.64\n",
            "Андрей, 14 лет. Средний балл: 3.6\n",
            "Илья, 15 лет. Средний балл: 3.5\n",
            "Сергей, 14 лет. Средний балл: 3.4\n",
            "Александр, 14 лет. Средний балл: 3.14\n"
          ]
        }
      ],
      "source": [
        "from random import randint\n",
        "from statistics import mean\n",
        "\n",
        "names = [\"Андрей\", \"Полина\", \"Татьяна\", \"Владимир\", \"Елисей\", \"Мария\", \"Роман\", \"Пётр\", \"Илья\", \"Сергей\", \"Аглая\", \"Виктория\", \"Александр\", \"Арина\", \"Артём\", \"Екатерина\", \"Константин\", \"Ада\", \"Арсений\", \"Софья\"]\n",
        "group = [ ]\n",
        "\n",
        "class Person:\n",
        "    def __init__(self, name, age):\n",
        "        self.age = age\n",
        "        self.name = name\n",
        "        self.grades = []\n",
        "\n",
        "    def __str__(self):\n",
        "        return f\"{self.name}, {self.age} лет. Средний балл: {self.getAverageGrade()}\"\n",
        "\n",
        "    def setGrade(self, grade):\n",
        "      self.grades.append(grade)\n",
        "\n",
        "    def getAverageGrade(self):\n",
        "      return round(mean(self.grades)*100)/100\n",
        "\n",
        "\n",
        "for name in names:\n",
        "  person = Person(name, randint(14, 15)) ## возраст\n",
        "\n",
        "  for i in range(randint(10, 24)): # количество оценок\n",
        "    person.setGrade(randint(2, 5+1)) ## оценки\n",
        "\n",
        "  group.append(person)\n",
        "\n",
        "group = sorted(group, key=lambda person: person.getAverageGrade(), reverse=True)\n",
        "\n",
        "for person in group:\n",
        "  print(str(person))\n",
        "# [print(str(person)) for person in group]"
      ]
    },
    {
      "cell_type": "markdown",
      "source": [
        "*__[РЕШЕНО]__ не смог понять, что за массив из None*"
      ],
      "metadata": {
        "id": "wI0UtkvmvVHs"
      }
    },
    {
      "cell_type": "markdown",
      "source": [
        "# Задача 2"
      ],
      "metadata": {
        "id": "L33EBRGfvsXL"
      }
    },
    {
      "cell_type": "code",
      "source": [
        "class Point:\n",
        "  def __init__(self, X, Y):\n",
        "    self.X = X\n",
        "    self.Y = Y\n",
        "\n",
        "class Rectangle:\n",
        "  def __init__(self, topLeft, bottomRight):\n",
        "    self.topLeft = topLeft\n",
        "    self.bottomRight = bottomRight\n",
        "    self.width = abs(bottomRight.X - topLeft.X)\n",
        "    self.height = abs(bottomRight.Y - topLeft.Y)\n",
        "\n",
        "  def __str__(self):\n",
        "    return f\"Прямоугольник. Площадь: {self.width}×{self.height} = {self.getArea()}, периметр: {self.getPerimeter()}\"\n",
        "\n",
        "  def getArea(self):\n",
        "    return self.width * self.height\n",
        "\n",
        "  def getPerimeter(self):\n",
        "    return self.width*2 + self.height*2\n",
        "\n",
        "  def hasPoint(self, point):\n",
        "    if (point.X >= self.topLeft.X and point.X <= self.bottomRight.X) and (point.Y <= self.topLeft.Y and point.Y >= self.bottomRight.Y):\n",
        "      return True\n",
        "    else:\n",
        "      return False\n",
        "\n",
        "TL = Point(int(input('X1 ')), int(input('Y1 ')))\n",
        "BR = Point(int(input('X2 ')), int(input('Y2 ')))\n",
        "pt = Point(int(input('X3 ')), int(input('Y3 ')))\n",
        "\n",
        "rect = Rectangle(TL, BR)\n",
        "print(rect)\n",
        "print(rect.hasPoint(pt))"
      ],
      "metadata": {
        "colab": {
          "base_uri": "https://localhost:8080/"
        },
        "id": "q-LZgljtvu0E",
        "outputId": "6998bd3d-ecc2-4d4a-a69e-952660fe25b1"
      },
      "execution_count": null,
      "outputs": [
        {
          "output_type": "stream",
          "name": "stdout",
          "text": [
            "X1 0\n",
            "Y1 0\n",
            "X2 -5\n",
            "Y2 -4\n",
            "X3 0\n",
            "Y3 -6\n",
            "Прямоугольник. Площадь: 5×4 = 20, Периметр: 18\n",
            "False\n"
          ]
        }
      ]
    },
    {
      "cell_type": "markdown",
      "source": [
        "#Задача 3"
      ],
      "metadata": {
        "id": "tffRJlUS49NQ"
      }
    },
    {
      "cell_type": "markdown",
      "source": [
        "У класса `Calculator` есть три метода:\n",
        "- `add` — складывает две дроби;\n",
        "- `diff` — вычитает две дроби;\n",
        "- `multiply` — умножает две дроби.\n",
        "\n",
        "Все числители и знаменатели должны быть целыми числами"
      ],
      "metadata": {
        "id": "uupwuxr_x5Gs"
      }
    },
    {
      "cell_type": "code",
      "source": [
        "from IPython.display import display, Latex\n",
        "import math\n",
        "\n",
        "class Fraction:\n",
        "  def __init__(self, numirator, denominator):\n",
        "    self.numirator = numirator\n",
        "    self.denominator = denominator\n",
        "\n",
        "  def displayFraction(self):\n",
        "    reduced = self.getReduced(self.numirator, self.denominator)\n",
        "    if reduced[0] == 0:\n",
        "      display(Latex(r'0'))\n",
        "    elif reduced[1] == [1]:\n",
        "      display(Latex(r'%s'%(reduced[0])))\n",
        "    elif reduced[0] == reduced[1]:\n",
        "      display(Latex(r'1'))\n",
        "    else:\n",
        "      display(Latex(r'\\frac{%s}{%s} '%(reduced[0], reduced[1])))\n",
        "\n",
        "  def getReduced(self, n, d):\n",
        "    gcd = math.gcd(n,d)\n",
        "    numirator = n // gcd\n",
        "    denominator = d // gcd\n",
        "    return (numirator, denominator)\n",
        "\n",
        "  def toDenominator(self, denominator):\n",
        "    if (denominator != 0):\n",
        "      self.numirator = self.numirator * denominator\n",
        "      self.denominator = self.denominator * denominator\n",
        "      print (self.numirator, self.denominator)\n",
        "\n",
        "class Calculator:\n",
        "    def fractionsLCM(self, fractions): # наименьшее общее кратное для двух числителей\n",
        "      return abs(fractions[0].denominator*fractions[1].denominator) // math.gcd(fractions[0].denominator, fractions[1].denominator)\n",
        "\n",
        "    def add(self, fractions):\n",
        "      denominator = self.fractionsLCM(fractions)\n",
        "      numirator = sum(int(fraction.numirator * (denominator/fraction.denominator)) for fraction in fractions)\n",
        "\n",
        "      result = Fraction(numirator, denominator)\n",
        "      result.displayFraction()\n",
        "\n",
        "    def diff(self, fractions):\n",
        "      denominator = self.fractionsLCM(fractions)\n",
        "      numirator = sum(-int(fraction.numirator * (denominator/fraction.denominator)) for fraction in fractions[1:]) + int(fractions[0].numirator * (denominator/fractions[0].denominator))\n",
        "\n",
        "      result = Fraction(numirator, denominator)\n",
        "      result.displayFraction()\n",
        "\n",
        "    def multiply(self, fractions):\n",
        "      numirator = math.prod(fraction.numirator for fraction in fractions)\n",
        "      denominator = math.prod(fraction.denominator for fraction in fractions)\n",
        "\n",
        "      result = Fraction(numirator, denominator)\n",
        "      result.displayFraction()\n",
        "\n",
        "fr1 = Fraction(7, 10)\n",
        "fr2 = Fraction(1, 2)\n",
        "fr1.displayFraction()\n",
        "fr2.displayFraction()\n",
        "\n",
        "calc = Calculator()\n",
        "calc.multiply([fr1, fr2])"
      ],
      "metadata": {
        "colab": {
          "base_uri": "https://localhost:8080/",
          "height": 80
        },
        "id": "AjTUCvJ-4-xt",
        "outputId": "59d08ede-9b1a-4f00-c430-8c2674cd0221"
      },
      "execution_count": null,
      "outputs": [
        {
          "output_type": "display_data",
          "data": {
            "text/plain": [
              "<IPython.core.display.Latex object>"
            ],
            "text/latex": "\\frac{7}{10} "
          },
          "metadata": {}
        },
        {
          "output_type": "display_data",
          "data": {
            "text/plain": [
              "<IPython.core.display.Latex object>"
            ],
            "text/latex": "\\frac{1}{2} "
          },
          "metadata": {}
        },
        {
          "output_type": "display_data",
          "data": {
            "text/plain": [
              "<IPython.core.display.Latex object>"
            ],
            "text/latex": "\\frac{7}{20} "
          },
          "metadata": {}
        }
      ]
    }
  ]
}