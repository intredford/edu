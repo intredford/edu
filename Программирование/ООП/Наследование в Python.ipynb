{
  "nbformat": 4,
  "nbformat_minor": 0,
  "metadata": {
    "colab": {
      "provenance": []
    },
    "kernelspec": {
      "name": "python3",
      "display_name": "Python 3"
    },
    "language_info": {
      "name": "python"
    }
  },
  "cells": [
    {
      "cell_type": "code",
      "execution_count": null,
      "metadata": {
        "colab": {
          "base_uri": "https://localhost:8080/"
        },
        "id": "InpDfpNAr85S",
        "outputId": "272b810b-e5ca-4276-b4d2-f28486834d40"
      },
      "outputs": [
        {
          "output_type": "stream",
          "name": "stdout",
          "text": [
            "\n",
            "<\u001b[0;36mhtml\u001b[0;30m>\n",
            "\n",
            "<\u001b[0;36mbody\u001b[0;30m>\n",
            "\u001b[0;30mWho?\u001b[0;30m\n",
            "\n",
            "<\u001b[0;36mp\u001b[0;30m>\n",
            "\u001b[0;30mP̵̺̈́y̴͈͐t̷̯͝h̴̹̀o̶̻̕ń̴̬\u001b[0;30m\n",
            "</\u001b[0;36mp\u001b[0;30m>\n",
            "\n",
            "</\u001b[0;36mbody\u001b[0;30m>\n",
            "\n",
            "</\u001b[0;36mhtml\u001b[0;30m>\n",
            "\n"
          ]
        }
      ],
      "source": [
        "class Node:\n",
        "  def __init__(self, tag, child=False, text=''):\n",
        "    self.tag = tag\n",
        "    self.child = child\n",
        "    self.text = text\n",
        "\n",
        "  def __str__(self):\n",
        "    baseColor = \"\\033[0;30m\"\n",
        "    tagColor = \"\\033[0;36m\"\n",
        "    textColor = \"\\033[0;30m\"\n",
        "    output = \"\"\n",
        "\n",
        "    output += f\"\\n<{tagColor}{self.tag}{baseColor}>\\n\"\n",
        "    if len(self.text) > 0:\n",
        "      output += f\"{textColor}{self.text}{baseColor}\\n\"\n",
        "    if self.child:\n",
        "      output += f\"{self.child}\\n\"\n",
        "    output += f\"</{tagColor}{self.tag}{baseColor}>\\n\"\n",
        "    return output\n",
        "\n",
        "class Html(Node):\n",
        "  def __init__(self, child=False, text=\"\"):\n",
        "    super().__init__(child=child, text=text, tag=\"html\")\n",
        "class Body(Node):\n",
        "  def __init__(self, child=False, text=\"\"):\n",
        "    super().__init__(child=child, text=text, tag=\"body\")\n",
        "class P(Node):\n",
        "  def __init__(self, child=False, text=\"\"):\n",
        "    super().__init__(child=child, text=text, tag=\"p\")\n",
        "\n",
        "p = P(text=\"P̵̺̈́y̴͈͐t̷̯͝h̴̹̀o̶̻̕ń̴̬\")\n",
        "body = Body(child=p, text=\"Who?\")\n",
        "html = Html(child=body)\n",
        "\n",
        "print(html)"
      ]
    }
  ]
}