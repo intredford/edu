{
  "nbformat": 4,
  "nbformat_minor": 0,
  "metadata": {
    "colab": {
      "provenance": []
    },
    "kernelspec": {
      "name": "python3",
      "display_name": "Python 3"
    },
    "language_info": {
      "name": "python"
    }
  },
  "cells": [
    {
      "cell_type": "markdown",
      "source": [
        "#Практика 12.09"
      ],
      "metadata": {
        "id": "86GzSX3F_t75"
      }
    },
    {
      "cell_type": "code",
      "execution_count": null,
      "metadata": {
        "colab": {
          "base_uri": "https://localhost:8080/"
        },
        "id": "TdUbC8YW_rDx",
        "outputId": "f30475b6-183b-40c1-d1bd-a89ce39e6e84"
      },
      "outputs": [
        {
          "output_type": "stream",
          "name": "stdout",
          "text": [
            "[('cinema', 10), ('social', 6), ('banner', 1), ('tv', 1)]\n",
            "Цена: 4950\n",
            "Очки обсуждения: 28500\n"
          ]
        }
      ],
      "source": [
        "\n",
        "class Services(object):\n",
        "\n",
        "  def __init__(self, threshold, budget):\n",
        "    self.threshold = threshold\n",
        "    self.budget = budget\n",
        "    self.sum = 0\n",
        "    self.score = 0\n",
        "\n",
        "    self.services = [\n",
        "        {\n",
        "          \"name\": \"social\",\n",
        "          \"price\": 450,\n",
        "          \"score\": 2000,\n",
        "          \"quantity\": 0,\n",
        "        },\n",
        "        {\n",
        "          \"name\": \"tv\",\n",
        "          \"price\": 500,\n",
        "          \"score\": 500,\n",
        "          \"quantity\": 0,\n",
        "        },\n",
        "        {\n",
        "          \"name\": \"banner\",\n",
        "          \"price\": 250,\n",
        "          \"score\": 1000,\n",
        "          \"quantity\": 0,\n",
        "        },\n",
        "        {\n",
        "          \"name\": \"cinema\",\n",
        "          \"price\": 150,\n",
        "          \"score\": 1500,\n",
        "          \"quantity\": 0,\n",
        "        },\n",
        "    ]\n",
        "\n",
        "    for i in range(len(self.services)):\n",
        "      self.services[i][\"ratio\"] = self.services[i][\"score\"] / self.services[i][\"price\"] # очков обсуждения за рубль (выгода)\n",
        "\n",
        "    for i in range(len(self.services)): # добавить 1 каждой рекламы\n",
        "      self.add(i)\n",
        "\n",
        "    self.sort()\n",
        "\n",
        "  def add(self, index): # добавить 1 рекламу\n",
        "    self.services[index][\"quantity\"] += 1\n",
        "    self.sum += self.services[index][\"price\"]\n",
        "    self.score += self.services[index][\"score\"]\n",
        "\n",
        "  def sort(self): # отсортировать по выгоде\n",
        "    for i in range(len(self.services)):\n",
        "      self.services = sorted(self.services, key=lambda service: service[\"ratio\"], reverse=True) # отсортировать по выгоде\n",
        "\n",
        "  def calculate(self):\n",
        "    index = 0\n",
        "    while self.score < self.threshold and sum < self.budget:\n",
        "      if self.services[index][\"quantity\"] < 10:\n",
        "        self.add(index)\n",
        "      else:\n",
        "        index += 1\n",
        "\n",
        "    return list(map(lambda service: (service[\"name\"], service[\"quantity\"]), self.services))\n",
        "\n",
        "ad = Services(threshold = 28000, budget=5000)\n",
        "print(ad.calculate())\n",
        "print('Цена:', ad.sum)\n",
        "print('Очки обсуждения:', ad.score)"
      ]
    }
  ]
}