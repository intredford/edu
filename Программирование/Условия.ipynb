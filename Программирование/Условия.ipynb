{
  "nbformat": 4,
  "nbformat_minor": 0,
  "metadata": {
    "colab": {
      "provenance": []
    },
    "kernelspec": {
      "name": "python3",
      "display_name": "Python 3"
    },
    "language_info": {
      "name": "python"
    }
  },
  "cells": [
    {
      "cell_type": "markdown",
      "source": [
        "#Задание 2. Условия"
      ],
      "metadata": {
        "id": "JfGBa-gWKB7m"
      }
    },
    {
      "cell_type": "markdown",
      "source": [
        "##Задача «Минимум из двух чисел»"
      ],
      "metadata": {
        "id": "qYdjjoq0KHrG"
      }
    },
    {
      "cell_type": "code",
      "source": [
        "a = int(input())\n",
        "b = int(input())\n",
        "\n",
        "if (a < b):\n",
        "    print(a)\n",
        "else:\n",
        "    print(b)"
      ],
      "metadata": {
        "colab": {
          "base_uri": "https://localhost:8080/"
        },
        "id": "C-ATlab5KG_d",
        "outputId": "54aae5c5-ae2c-40e0-8692-f82124a157eb"
      },
      "execution_count": null,
      "outputs": [
        {
          "output_type": "stream",
          "name": "stdout",
          "text": [
            "-200\n",
            "512\n",
            "-200\n"
          ]
        }
      ]
    },
    {
      "cell_type": "markdown",
      "source": [
        "##Задача «Знак числа»"
      ],
      "metadata": {
        "id": "JnaoQKDlbbCM"
      }
    },
    {
      "cell_type": "code",
      "source": [
        "a = int(input())\n",
        "\n",
        "if (a > 0):\n",
        "    print('1')\n",
        "elif (a < 0):\n",
        "    print('-1')\n",
        "else:\n",
        "    print('0')"
      ],
      "metadata": {
        "colab": {
          "base_uri": "https://localhost:8080/"
        },
        "id": "1uBUxLAIbbdU",
        "outputId": "75dfa220-810a-4939-db1c-4da84af6d285"
      },
      "execution_count": null,
      "outputs": [
        {
          "output_type": "stream",
          "name": "stdout",
          "text": [
            "42\n",
            "1\n"
          ]
        }
      ]
    },
    {
      "cell_type": "markdown",
      "source": [
        "##Задача «Шахматная доска»"
      ],
      "metadata": {
        "id": "K1k6sWoqgQLm"
      }
    },
    {
      "cell_type": "code",
      "source": [
        "col1 = int(input('Колонка 1\\n'))\n",
        "row1 = int(input('Строка 1\\n'))\n",
        "col2 = int(input('Колонка 2\\n'))\n",
        "row2 = int(input('Строка 2\\n'))\n",
        "\n",
        "def isBlack(row, col):\n",
        "    if (row % 2 == 0):       # если строка чётная\n",
        "        if (col % 2 == 0):   # и колонка чётная\n",
        "            return False     # то клетка белая\n",
        "        else:\n",
        "            return True      # иначе клетка чёрная\n",
        "    else:                    # а если строка нечётная\n",
        "        if (col % 2 == 0):   # и колонка чётная\n",
        "            return True      # то клетка чёрная\n",
        "        else:\n",
        "            return False     # иначе клетка белая\n",
        "\n",
        "if (isBlack(row1, col1) == isBlack(row2, col2)):\n",
        "    print('YES')\n",
        "else:\n",
        "    print('NO')\n",
        ""
      ],
      "metadata": {
        "colab": {
          "base_uri": "https://localhost:8080/"
        },
        "id": "yux0RkGQgQc4",
        "outputId": "06832dce-91b7-4263-af03-db48dbe501a5"
      },
      "execution_count": null,
      "outputs": [
        {
          "output_type": "stream",
          "name": "stdout",
          "text": [
            "Колонка 1\n",
            "7\n",
            "Строка 1\n",
            "2\n",
            "Колонка 2\n",
            "2\n",
            "Строка 2\n",
            "3\n",
            "YES\n"
          ]
        }
      ]
    },
    {
      "cell_type": "markdown",
      "source": [
        "##Задача «Високосный год»"
      ],
      "metadata": {
        "id": "Ga9HZXHyidKz"
      }
    },
    {
      "cell_type": "code",
      "source": [
        "year = int(input())\n",
        "\n",
        "if (((year % 4 == 0) and (year % 100 != 0)) or (year % 400 == 0)):\n",
        "    print('YES')\n",
        "else:\n",
        "    print('NO')"
      ],
      "metadata": {
        "colab": {
          "base_uri": "https://localhost:8080/"
        },
        "id": "OrpznZg-idZE",
        "outputId": "f7a826a0-7e66-4d97-eab3-3266f390a24a"
      },
      "execution_count": null,
      "outputs": [
        {
          "output_type": "stream",
          "name": "stdout",
          "text": [
            "2000\n",
            "YES\n"
          ]
        }
      ]
    },
    {
      "cell_type": "markdown",
      "source": [
        "##Задача «Минимум из трех чисел»"
      ],
      "metadata": {
        "id": "CkAfdOa0DD1n"
      }
    },
    {
      "cell_type": "code",
      "source": [
        "a = int(input())\n",
        "b = int(input())\n",
        "c = int(input())\n",
        "\n",
        "if ((a <= b) and (a <= c)):\n",
        "    print(a)\n",
        "elif ((b <= c) and (b <= a)):\n",
        "    print(b)\n",
        "else:\n",
        "    print(c)"
      ],
      "metadata": {
        "colab": {
          "base_uri": "https://localhost:8080/"
        },
        "id": "-fK5f0wJDETc",
        "outputId": "71a369a8-7088-4e92-f8b7-2120374e7bad"
      },
      "execution_count": null,
      "outputs": [
        {
          "output_type": "stream",
          "name": "stdout",
          "text": [
            "3\n",
            "3\n",
            "6\n",
            "3\n"
          ]
        }
      ]
    },
    {
      "cell_type": "markdown",
      "source": [
        "##Задача «Сколько совпадает чисел»"
      ],
      "metadata": {
        "id": "h7GRgOCoELcC"
      }
    },
    {
      "cell_type": "code",
      "source": [
        "a = int(input())\n",
        "b = int(input())\n",
        "c = int(input())\n",
        "\n",
        "if ((a == b) or (a == c) or (b == c)):\n",
        "    if (a == b == c):\n",
        "        print('3')\n",
        "    else:\n",
        "        print('2')\n",
        "else:\n",
        "    print('0')"
      ],
      "metadata": {
        "colab": {
          "base_uri": "https://localhost:8080/"
        },
        "id": "1QzpvH4vELq9",
        "outputId": "fd05a679-f15c-46c1-aace-e1d634d3d264"
      },
      "execution_count": null,
      "outputs": [
        {
          "output_type": "stream",
          "name": "stdout",
          "text": [
            "9\n",
            "555\n",
            "555\n",
            "2\n"
          ]
        }
      ]
    },
    {
      "cell_type": "markdown",
      "source": [
        "##Задача «Ход ладьи»\n",
        "Полагаю, автор допустил ошибку и назвал слона ладьёй, потому что в тестах описаны ходы слона. Я всё равно сделал для ладьи, потому что слон будет позже."
      ],
      "metadata": {
        "id": "aANOZ3RQGsRX"
      }
    },
    {
      "cell_type": "code",
      "source": [
        "col1 = int(input('Колонка 1\\n'))\n",
        "row1 = int(input('Строка 1\\n'))\n",
        "col2 = int(input('Колонка 2\\n'))\n",
        "row2 = int(input('Строка 2\\n'))\n",
        "\n",
        "if (col1 - row1 == col2 - row2):\n",
        "    print('YES')\n",
        "else:\n",
        "    print('NO')"
      ],
      "metadata": {
        "colab": {
          "base_uri": "https://localhost:8080/"
        },
        "id": "QyRDsJQOGsau",
        "outputId": "bb62bd53-c5b5-4626-b0c8-c06c2e148ebd"
      },
      "execution_count": null,
      "outputs": [
        {
          "output_type": "stream",
          "name": "stdout",
          "text": [
            "Колонка 1\n",
            "1\n",
            "Строка 1\n",
            "3\n",
            "Колонка 2\n",
            "5\n",
            "Строка 2\n",
            "7\n",
            "YES\n"
          ]
        }
      ]
    },
    {
      "cell_type": "markdown",
      "source": [
        "##Задача «Ход короля»"
      ],
      "metadata": {
        "id": "vLfVXyS4I-pC"
      }
    },
    {
      "cell_type": "code",
      "source": [
        "col1 = int(input('Колонка 1\\n'))\n",
        "row1 = int(input('Строка 1\\n'))\n",
        "col2 = int(input('Колонка 2\\n'))\n",
        "row2 = int(input('Строка 2\\n'))\n",
        "\n",
        "if ((abs(col1-col2) <= 1) and (abs(row1-row2) <= 1)):\n",
        "    print('YES')\n",
        "else:\n",
        "    print('NO')"
      ],
      "metadata": {
        "colab": {
          "base_uri": "https://localhost:8080/"
        },
        "id": "tJsaoz1kI-_t",
        "outputId": "9b0af15c-e3f8-4d5f-a63a-954faad5e982"
      },
      "execution_count": null,
      "outputs": [
        {
          "output_type": "stream",
          "name": "stdout",
          "text": [
            "Колонка 1\n",
            "1\n",
            "Строка 1\n",
            "7\n",
            "Колонка 2\n",
            "1\n",
            "Строка 2\n",
            "8\n",
            "YES\n"
          ]
        }
      ]
    },
    {
      "cell_type": "markdown",
      "source": [
        "##Задача «Ход слона»"
      ],
      "metadata": {
        "id": "UdXMf1e2Kztt"
      }
    },
    {
      "cell_type": "code",
      "source": [
        "col1 = int(input('Колонка 1\\n'))\n",
        "row1 = int(input('Строка 1\\n'))\n",
        "col2 = int(input('Колонка 2\\n'))\n",
        "row2 = int(input('Строка 2\\n'))\n",
        "\n",
        "if ((col1 == col2) or (row1 == row2)):\n",
        "    print('YES')\n",
        "else:\n",
        "    print('NO')"
      ],
      "metadata": {
        "colab": {
          "base_uri": "https://localhost:8080/"
        },
        "id": "d0njJJ-_K0C_",
        "outputId": "0b86fa7f-80bb-441c-be89-cd47232b0a06"
      },
      "execution_count": null,
      "outputs": [
        {
          "output_type": "stream",
          "name": "stdout",
          "text": [
            "Колонка 1\n",
            "4\n",
            "Строка 1\n",
            "4\n",
            "Колонка 2\n",
            "8\n",
            "Строка 2\n",
            "4\n",
            "YES\n"
          ]
        }
      ]
    },
    {
      "cell_type": "markdown",
      "source": [
        "##Задача «Ход ферзя»"
      ],
      "metadata": {
        "id": "URTPT7azLF42"
      }
    },
    {
      "cell_type": "code",
      "source": [
        "col1 = int(input('Колонка 1\\n'))\n",
        "row1 = int(input('Строка 1\\n'))\n",
        "col2 = int(input('Колонка 2\\n'))\n",
        "row2 = int(input('Строка 2\\n'))\n",
        "\n",
        "if ((col1 == col2) or (row1 == row2)):\n",
        "    print('YES')\n",
        "elif (col1 - row1 == col2 - row2):\n",
        "    print('YES')\n",
        "else:\n",
        "    print('NO')"
      ],
      "metadata": {
        "id": "2u1k7_XtLGIx"
      },
      "execution_count": null,
      "outputs": []
    },
    {
      "cell_type": "markdown",
      "source": [
        "##Задача «Ход коня»"
      ],
      "metadata": {
        "id": "JzmeuuoiM4Ck"
      }
    },
    {
      "cell_type": "code",
      "source": [
        "col1 = int(input('Колонка 1\\n'))\n",
        "row1 = int(input('Строка 1\\n'))\n",
        "col2 = int(input('Колонка 2\\n'))\n",
        "row2 = int(input('Строка 2\\n'))\n",
        "\n",
        "if (abs(col1-col2) == 1) and (abs(row1-row2) == 2):\n",
        "    print('YES')\n",
        "elif (abs(row1-row2) == 1) and (abs(col1-col2) == 2):\n",
        "    print('YES')\n",
        "else:\n",
        "    print('NO')"
      ],
      "metadata": {
        "colab": {
          "base_uri": "https://localhost:8080/"
        },
        "id": "_C0xDsj6M4PH",
        "outputId": "4415675c-31ca-4ca0-e3fc-b13a0ab9c706"
      },
      "execution_count": null,
      "outputs": [
        {
          "output_type": "stream",
          "name": "stdout",
          "text": [
            "Колонка 1\n",
            "5\n",
            "Строка 1\n",
            "1\n",
            "Колонка 2\n",
            "4\n",
            "Строка 2\n",
            "3\n",
            "YES\n"
          ]
        }
      ]
    },
    {
      "cell_type": "markdown",
      "source": [
        "##Задача «Шоколадка»"
      ],
      "metadata": {
        "id": "u9iy5lp3QRR8"
      }
    },
    {
      "cell_type": "code",
      "source": [
        "width = int(input())\n",
        "height = int(input())\n",
        "pieces = int(input())\n",
        "\n",
        "if (((pieces % width == 0) or (pieces % height == 0)) and (pieces < height*width)):\n",
        "    print('YES')\n",
        "else:\n",
        "    print('NO')"
      ],
      "metadata": {
        "colab": {
          "base_uri": "https://localhost:8080/"
        },
        "id": "r6HA9sZtQRqL",
        "outputId": "4346f281-25e1-42aa-861c-654e4831202c"
      },
      "execution_count": null,
      "outputs": [
        {
          "output_type": "stream",
          "name": "stdout",
          "text": [
            "4\n",
            "8\n",
            "12\n",
            "YES\n"
          ]
        }
      ]
    },
    {
      "cell_type": "markdown",
      "source": [
        "##Задача «Яша плавает в бассейне»\n",
        "Я поленился..."
      ],
      "metadata": {
        "id": "p4vEfbpBQlXK"
      }
    }
  ]
}