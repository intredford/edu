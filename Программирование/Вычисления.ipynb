{
  "cells": [
    {
      "cell_type": "markdown",
      "metadata": {
        "id": "-v5xPNlmaUH_"
      },
      "source": [
        "#Задание 3. Вычисления"
      ]
    },
    {
      "cell_type": "markdown",
      "metadata": {
        "id": "L79qTw2VaUWV"
      },
      "source": [
        "##Задача «Последняя цифра числа»\n"
      ]
    },
    {
      "cell_type": "code",
      "execution_count": null,
      "metadata": {
        "colab": {
          "base_uri": "https://localhost:8080/"
        },
        "id": "_rydW1HUaUrM",
        "outputId": "38ef2303-7dfa-4c56-daa7-981ee1a73c15"
      },
      "outputs": [
        {
          "name": "stdout",
          "output_type": "stream",
          "text": [
            "1621684\n",
            "4\n"
          ]
        }
      ],
      "source": [
        "n = input()\n",
        "print(list(n)[-1])"
      ]
    },
    {
      "cell_type": "markdown",
      "metadata": {
        "id": "KFrr6ijIaZv6"
      },
      "source": [
        "##Задача «МКАД»"
      ]
    },
    {
      "cell_type": "code",
      "execution_count": null,
      "metadata": {
        "colab": {
          "base_uri": "https://localhost:8080/"
        },
        "id": "twoVTREGaaLE",
        "outputId": "3dc5bd1a-be9b-40b1-88a3-275112f4c6ad"
      },
      "outputs": [
        {
          "name": "stdout",
          "output_type": "stream",
          "text": [
            "110\n",
            "5\n",
            "5\n"
          ]
        }
      ],
      "source": [
        "velocity = int(input())\n",
        "time = int(input())\n",
        "length = 109\n",
        "\n",
        "print(velocity*time % length)"
      ]
    },
    {
      "cell_type": "markdown",
      "metadata": {
        "id": "OfmH5e_yc6tZ"
      },
      "source": [
        "##Задача «Дробная часть»"
      ]
    },
    {
      "cell_type": "code",
      "execution_count": null,
      "metadata": {
        "id": "PyheeLLec65Q"
      },
      "outputs": [],
      "source": [
        "n = float(input())\n",
        "\n",
        "print(round((n - n // 1) * 1000)/1000) # плавающая точка"
      ]
    },
    {
      "cell_type": "markdown",
      "metadata": {
        "id": "J1h2p3pEeP4O"
      },
      "source": [
        "##Задача «Первая цифра после точки»"
      ]
    },
    {
      "cell_type": "code",
      "execution_count": null,
      "metadata": {
        "colab": {
          "base_uri": "https://localhost:8080/"
        },
        "id": "scQcr0w9eQJ1",
        "outputId": "d096b76c-a65c-4270-9cbd-35e24ccebe3d"
      },
      "outputs": [
        {
          "name": "stdout",
          "output_type": "stream",
          "text": [
            "287.915\n",
            "9\n"
          ]
        }
      ],
      "source": [
        "n = input()\n",
        "print(list(n.split('.')[-1])[0])"
      ]
    },
    {
      "cell_type": "markdown",
      "metadata": {
        "id": "PJCTHxg3fg1e"
      },
      "source": [
        "##Задача «Автопробег»"
      ]
    },
    {
      "cell_type": "code",
      "execution_count": null,
      "metadata": {
        "colab": {
          "base_uri": "https://localhost:8080/"
        },
        "id": "4wjoPHt2fhAl",
        "outputId": "bf936b6b-becd-4614-877e-6762949b73af"
      },
      "outputs": [
        {
          "name": "stdout",
          "output_type": "stream",
          "text": [
            "90\n",
            "100\n",
            "2\n"
          ]
        }
      ],
      "source": [
        "from math import ceil\n",
        "\n",
        "perDay = int(input())\n",
        "total = int(input())\n",
        "\n",
        "print(ceil(total/perDay))"
      ]
    },
    {
      "cell_type": "markdown",
      "metadata": {
        "id": "4DYlO9Slg7g_"
      },
      "source": [
        "##Задача «Стоимость покупки»"
      ]
    },
    {
      "cell_type": "code",
      "execution_count": null,
      "metadata": {
        "colab": {
          "base_uri": "https://localhost:8080/"
        },
        "id": "G997_8Ffg736",
        "outputId": "375512f2-094f-40a7-87ca-e558f80b1c5a"
      },
      "outputs": [
        {
          "name": "stdout",
          "output_type": "stream",
          "text": [
            "10\n",
            "15\n",
            "8\n",
            "81 20\n"
          ]
        }
      ],
      "source": [
        "rubles = int(input())\n",
        "kopecks = int(input())/100\n",
        "quantity = int(input())\n",
        "\n",
        "perProduct = rubles + kopecks\n",
        "sum = quantity * perProduct\n",
        "\n",
        "print(int(sum // 1), round((sum - sum // 1)*100))"
      ]
    },
    {
      "cell_type": "markdown",
      "metadata": {
        "id": "M6SsWej-kHTe"
      },
      "source": [
        "##Задача «Разность времен»"
      ]
    },
    {
      "cell_type": "code",
      "execution_count": null,
      "metadata": {
        "colab": {
          "base_uri": "https://localhost:8080/"
        },
        "id": "j6byz37rkHjP",
        "outputId": "765dd3ad-f779-49ec-9f7d-4958aeec126e"
      },
      "outputs": [
        {
          "name": "stdout",
          "output_type": "stream",
          "text": [
            "6\n",
            "2\n",
            "30\n",
            "7\n",
            "3\n",
            "40\n",
            "3670\n"
          ]
        }
      ],
      "source": [
        "hour1 = int(input())\n",
        "min1 = int(input())\n",
        "sec1 = int(input())\n",
        "hour2 = int(input())\n",
        "min2 = int(input())\n",
        "sec2 = int(input())\n",
        "\n",
        "fullTime1 = hour1*60*60 + min1*60 + sec1\n",
        "fullTime2 = hour2*60*60 + min2*60 + sec2\n"
      ]
    },
    {
      "cell_type": "markdown",
      "metadata": {
        "id": "khvSBwVI2Yuf"
      },
      "source": [
        "##Задача «Улитка»"
      ]
    },
    {
      "cell_type": "code",
      "execution_count": null,
      "metadata": {
        "colab": {
          "base_uri": "https://localhost:8080/"
        },
        "id": "GaeKSBFL2Y7i",
        "outputId": "7a19283d-510d-411b-eb16-e42ae3743ca6"
      },
      "outputs": [
        {
          "name": "stdout",
          "output_type": "stream",
          "text": [
            "10\n",
            "3\n",
            "2\n",
            "8\n"
          ]
        }
      ],
      "source": [
        "total = int(input())\n",
        "ascend = int(input())\n",
        "descend = int(input())\n",
        "day = 1\n",
        "height = 0\n",
        "\n",
        "while (height <= total):\n",
        "    height = height + ascend\n",
        "\n",
        "    if (height >= total):\n",
        "        break\n",
        "    else:\n",
        "        height = height - descend\n",
        "        day += 1\n",
        "\n",
        "print(day)"
      ]
    },
    {
      "cell_type": "markdown",
      "metadata": {
        "id": "rz_hq2bL22s2"
      },
      "source": [
        "##Задача «Число десятков»"
      ]
    },
    {
      "cell_type": "code",
      "execution_count": null,
      "metadata": {
        "colab": {
          "base_uri": "https://localhost:8080/"
        },
        "id": "K9jlyDLB22-i",
        "outputId": "63e3ff62-ebd8-4174-b038-0911f6588e6a"
      },
      "outputs": [
        {
          "name": "stdout",
          "output_type": "stream",
          "text": [
            "1234\n",
            "123\n"
          ]
        }
      ],
      "source": [
        "from math import floor\n",
        "\n",
        "print(floor(int(input())/10))"
      ]
    },
    {
      "cell_type": "markdown",
      "metadata": {},
      "source": [
        "Комментарий преподавателя: \"нужно вывести цифру в десятках, а не отбросить единицы\". Я так и не понял, что значит \"вывести цифру в десятках\")"
      ]
    },
    {
      "cell_type": "markdown",
      "metadata": {
        "id": "olWL3ycW3qUR"
      },
      "source": [
        "##Задача «Сумма цифр»"
      ]
    },
    {
      "cell_type": "code",
      "execution_count": null,
      "metadata": {
        "colab": {
          "base_uri": "https://localhost:8080/"
        },
        "id": "MUb8IFX-3qgj",
        "outputId": "efbea961-9366-4865-ae7a-9093b6f68a03"
      },
      "outputs": [
        {
          "name": "stdout",
          "output_type": "stream",
          "text": [
            "91002\n",
            "12\n"
          ]
        }
      ],
      "source": [
        "digits = input()\n",
        "\n",
        "print(sum(map(int, list(digits))))"
      ]
    },
    {
      "cell_type": "markdown",
      "metadata": {
        "id": "HmrdyfC_4NbV"
      },
      "source": [
        "##Задача «Гипотенуза»"
      ]
    },
    {
      "cell_type": "code",
      "execution_count": null,
      "metadata": {
        "colab": {
          "base_uri": "https://localhost:8080/"
        },
        "id": "PXLJAHH34Nrl",
        "outputId": "2aadf0e9-f21a-443f-a830-b21b376b4181"
      },
      "outputs": [
        {
          "name": "stdout",
          "output_type": "stream",
          "text": [
            "5\n",
            "12\n",
            "13.0\n"
          ]
        }
      ],
      "source": [
        "from math import sqrt\n",
        "\n",
        "cathetus1 = int(input())\n",
        "cathetus2 = int(input())\n",
        "\n",
        "print(sqrt(cathetus1**2 + cathetus2**2))"
      ]
    },
    {
      "cell_type": "markdown",
      "metadata": {
        "id": "TDv1bWQP4Tzd"
      },
      "source": [
        "##Задача «Часы - 1»"
      ]
    },
    {
      "cell_type": "code",
      "execution_count": null,
      "metadata": {
        "colab": {
          "base_uri": "https://localhost:8080/"
        },
        "id": "sP1OsFZ84UCs",
        "outputId": "65a1406c-db2a-4a50-abd1-f921d42e3392"
      },
      "outputs": [
        {
          "name": "stdout",
          "output_type": "stream",
          "text": [
            "0\n",
            "30\n",
            "0\n",
            "15.0\n"
          ]
        }
      ],
      "source": [
        "hours = int(input())\n",
        "mins = int(input())\n",
        "secs = int(input())\n",
        "total = 12*60*60\n",
        "\n",
        "deg = (hours*60*60 + mins*60 + secs) * 360 / total\n",
        "\n",
        "print(deg)"
      ]
    },
    {
      "cell_type": "markdown",
      "metadata": {
        "id": "8lD2pKEw5dEk"
      },
      "source": [
        "##Задача «Часы - 2»"
      ]
    },
    {
      "cell_type": "markdown",
      "metadata": {
        "id": "N7YQ1Tgv55L8"
      },
      "source": [
        "Не хватило математической смекалки"
      ]
    },
    {
      "cell_type": "markdown",
      "metadata": {
        "id": "WGHcQK_c5hiE"
      },
      "source": [
        "##Задача «Часы - 3»"
      ]
    },
    {
      "cell_type": "code",
      "execution_count": null,
      "metadata": {
        "colab": {
          "base_uri": "https://localhost:8080/"
        },
        "id": "fQJgzp2H5h3p",
        "outputId": "16d092e7-a801-48d4-adf7-26e33ea5741e"
      },
      "outputs": [
        {
          "name": "stdout",
          "output_type": "stream",
          "text": [
            "31.05\n",
            "1 2 6\n"
          ]
        }
      ],
      "source": [
        "from math import floor\n",
        "\n",
        "deg = float(input())\n",
        "total = 12*60*60\n",
        "\n",
        "time = total*deg/360\n",
        "\n",
        "hours = floor(time/60/60)\n",
        "mins = floor((time - hours*60*60)/60)\n",
        "secs = int(time - hours*60*60 - mins*60)\n",
        "\n",
        "print(hours, mins, secs)"
      ]
    }
  ],
  "metadata": {
    "colab": {
      "provenance": []
    },
    "kernelspec": {
      "display_name": "Python 3",
      "name": "python3"
    },
    "language_info": {
      "name": "python"
    }
  },
  "nbformat": 4,
  "nbformat_minor": 0
}
