{
  "nbformat": 4,
  "nbformat_minor": 0,
  "metadata": {
    "colab": {
      "provenance": [],
      "toc_visible": true
    },
    "kernelspec": {
      "name": "python3",
      "display_name": "Python 3"
    },
    "language_info": {
      "name": "python"
    }
  },
  "cells": [
    {
      "cell_type": "markdown",
      "metadata": {
        "id": "zU867A9Ld7Hj"
      },
      "source": [
        "#**Василий Чапаев**"
      ]
    },
    {
      "cell_type": "markdown",
      "metadata": {
        "id": "MnDBTbtDeLGr"
      },
      "source": [
        "**19 января 2003 года**\n",
        "\n",
        "---\n",
        "\n"
      ]
    },
    {
      "cell_type": "markdown",
      "metadata": {
        "id": "tTkbsWmvftam"
      },
      "source": [
        "##Графический образ\n",
        "<a href=\"https://ibb.co/mGZdsGW\"><img src=\"https://i.ibb.co/6m9GhmC/ebisu.png\" alt=\"image\" border=\"0\"></a>"
      ]
    },
    {
      "cell_type": "markdown",
      "source": [
        "##Любимые эмоджи\n",
        "Не пользуюсь.<br>\n",
        "◀🖥▶\n",
        "___"
      ],
      "metadata": {
        "id": "Rkr3wxuHmT03"
      }
    },
    {
      "cell_type": "markdown",
      "metadata": {
        "id": "Tg-SeuVAk7tH"
      },
      "source": [
        "## \"Хард-скиллы\"\n",
        "  1.   Веб-разработка\n",
        "  2.   Администрирование Linux\n",
        "\n",
        "---\n",
        "\n"
      ]
    },
    {
      "cell_type": "markdown",
      "metadata": {
        "id": "C2lHy0DTlJQF"
      },
      "source": [
        "##\"Софт-скиллы\"\n",
        "  *   Усидчивость\n",
        "  *   Обучаемость\n",
        "\n",
        "\n",
        "\n",
        "\n",
        "---\n",
        "\n"
      ]
    },
    {
      "cell_type": "markdown",
      "metadata": {
        "id": "j9VrNp53lJZy"
      },
      "source": [
        "##Полезная ссылка\n",
        "[Свободное программное обеспечение](https://en.wikipedia.org/wiki/Free_software)\n",
        "\n"
      ]
    }
  ]
}