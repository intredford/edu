{
  "nbformat": 4,
  "nbformat_minor": 0,
  "metadata": {
    "colab": {
      "provenance": []
    },
    "kernelspec": {
      "name": "python3",
      "display_name": "Python 3"
    },
    "language_info": {
      "name": "python"
    }
  },
  "cells": [
    {
      "cell_type": "markdown",
      "source": [
        "#Занятие 4. Цикл for"
      ],
      "metadata": {
        "id": "JTstcNJ58xwl"
      }
    },
    {
      "cell_type": "markdown",
      "source": [
        "##Задача «Ряд - 1»"
      ],
      "metadata": {
        "id": "_c4KolLJ80Y8"
      }
    },
    {
      "cell_type": "code",
      "source": [
        "first = int(input())\n",
        "second = int(input())+1\n",
        "\n",
        "for number in range(first, second):\n",
        "    print(number)"
      ],
      "metadata": {
        "id": "717HMnl580pE",
        "colab": {
          "base_uri": "https://localhost:8080/"
        },
        "outputId": "2475ae8d-88eb-4487-9ac7-e860cf8300ed"
      },
      "execution_count": null,
      "outputs": [
        {
          "output_type": "stream",
          "name": "stdout",
          "text": [
            "91\n",
            "100\n",
            "91\n",
            "92\n",
            "93\n",
            "94\n",
            "95\n",
            "96\n",
            "97\n",
            "98\n",
            "99\n",
            "100\n"
          ]
        }
      ]
    },
    {
      "cell_type": "markdown",
      "source": [
        "##Задача «Ряд - 2»"
      ],
      "metadata": {
        "id": "wRD8Pqpj9LI3"
      }
    },
    {
      "cell_type": "code",
      "source": [
        "first = int(input())\n",
        "second = int(input())\n",
        "\n",
        "rng = list(range(min(first, second), max(first, second)+1))\n",
        "if (first > second):\n",
        "    rng = reversed(rng)\n",
        "\n",
        "for number in rng:\n",
        "    print(number)\n",
        ""
      ],
      "metadata": {
        "colab": {
          "base_uri": "https://localhost:8080/"
        },
        "id": "O2gMsf0Q9LI6",
        "outputId": "a8bdfcb8-8e58-4aa2-ac6f-2d7477e452fb"
      },
      "execution_count": null,
      "outputs": [
        {
          "output_type": "stream",
          "name": "stdout",
          "text": [
            "-5\n",
            "5\n",
            "-5\n",
            "-4\n",
            "-3\n",
            "-2\n",
            "-1\n",
            "0\n",
            "1\n",
            "2\n",
            "3\n",
            "4\n",
            "5\n"
          ]
        }
      ]
    },
    {
      "cell_type": "markdown",
      "source": [
        "##Задача «Ряд - 3»"
      ],
      "metadata": {
        "id": "fPMNMXIX9M-d"
      }
    },
    {
      "cell_type": "code",
      "source": [
        "bigger = int(input())\n",
        "smaller = int(input())\n",
        "\n",
        "rng = list(range(smaller, bigger+1))\n",
        "odd = reversed(list(filter(lambda number: number % 2 != 0, rng)))\n",
        "\n",
        "print('\\n'.join(str(number) for number in odd))"
      ],
      "metadata": {
        "colab": {
          "base_uri": "https://localhost:8080/"
        },
        "id": "keYs_iPL9M-h",
        "outputId": "b4f5389a-b27e-47ed-9635-fd631304f1b4"
      },
      "execution_count": null,
      "outputs": [
        {
          "output_type": "stream",
          "name": "stdout",
          "text": [
            "11\n",
            "-10\n",
            "11\n",
            "9\n",
            "7\n",
            "5\n",
            "3\n",
            "1\n",
            "-1\n",
            "-3\n",
            "-5\n",
            "-7\n",
            "-9\n"
          ]
        }
      ]
    },
    {
      "cell_type": "markdown",
      "source": [
        "##Задача «Сумма десяти чисел»"
      ],
      "metadata": {
        "id": "Hu1--fka9NEr"
      }
    },
    {
      "cell_type": "code",
      "source": [
        "sum = 0\n",
        "for i in range(10+1):\n",
        "    sum = sum + int(input())\n",
        "\n",
        "print(sum)\n",
        ""
      ],
      "metadata": {
        "colab": {
          "base_uri": "https://localhost:8080/"
        },
        "id": "tn8RyHl_9NEt",
        "outputId": "aac56289-07a6-4a4e-a86d-e564d22c37d0"
      },
      "execution_count": null,
      "outputs": [
        {
          "output_type": "stream",
          "name": "stdout",
          "text": [
            "1\n",
            "2\n",
            "3\n",
            "4\n",
            "5\n",
            "6\n",
            "7\n",
            "8\n",
            "9\n",
            "10\n",
            "11\n",
            "66\n"
          ]
        }
      ]
    },
    {
      "cell_type": "markdown",
      "source": [
        "##Задача «Сумма N чисел»"
      ],
      "metadata": {
        "id": "SGNzhewS9NJr"
      }
    },
    {
      "cell_type": "code",
      "source": [
        "sum = 0\n",
        "for i in range(int(input())+1):\n",
        "    sum = sum + int(input())\n",
        "\n",
        "print(sum)"
      ],
      "metadata": {
        "colab": {
          "base_uri": "https://localhost:8080/"
        },
        "id": "ick-Iy7W9NJs",
        "outputId": "bf504adf-8a41-4885-e66d-abf20c47baaa"
      },
      "execution_count": null,
      "outputs": [
        {
          "output_type": "stream",
          "name": "stdout",
          "text": [
            "3\n",
            "95\n",
            "1\n",
            "4\n",
            "0\n",
            "100\n"
          ]
        }
      ]
    },
    {
      "cell_type": "markdown",
      "source": [
        "##Задача «Сумма кубов»"
      ],
      "metadata": {
        "id": "V79tiReX9NM_"
      }
    },
    {
      "cell_type": "code",
      "source": [
        "summ = 0\n",
        "for number in range(int(input())+1):\n",
        "    summ = summ + number**3\n",
        "\n",
        "print(summ)"
      ],
      "metadata": {
        "id": "xkDLm5GyJGuh",
        "colab": {
          "base_uri": "https://localhost:8080/"
        },
        "outputId": "6328f7d6-ec6a-498a-9a83-8a0ebcfa9408"
      },
      "execution_count": null,
      "outputs": [
        {
          "output_type": "stream",
          "name": "stdout",
          "text": [
            "6\n",
            "441\n"
          ]
        }
      ]
    },
    {
      "cell_type": "markdown",
      "source": [
        "##Задача «Факториал»"
      ],
      "metadata": {
        "id": "J7cW9KkJ9NRY"
      }
    },
    {
      "cell_type": "code",
      "source": [
        "number = int(input())\n",
        "factorial = 1\n",
        "\n",
        "for i in range(1, number+1):\n",
        "    factorial = factorial * (i)\n",
        "\n",
        "print(factorial)"
      ],
      "metadata": {
        "id": "dp7XgrTd9NRa",
        "colab": {
          "base_uri": "https://localhost:8080/"
        },
        "outputId": "be49d070-0976-4435-dc3f-b9aeb4cf90c1"
      },
      "execution_count": null,
      "outputs": [
        {
          "output_type": "stream",
          "name": "stdout",
          "text": [
            "5\n",
            "120\n"
          ]
        }
      ]
    },
    {
      "cell_type": "markdown",
      "source": [
        "##Задача «Количество нулей»"
      ],
      "metadata": {
        "id": "q7F8s-sY9NUx"
      }
    },
    {
      "cell_type": "code",
      "source": [
        "length = int(input())\n",
        "nulls = 0\n",
        "\n",
        "for i in range(length+1):\n",
        "    if int(input()) == 0:\n",
        "        nulls = nulls + 1\n",
        "\n",
        "print(nulls)"
      ],
      "metadata": {
        "id": "SXOUOpzJ9NUy",
        "colab": {
          "base_uri": "https://localhost:8080/"
        },
        "outputId": "159ed214-9ee8-405d-d7ce-749aad1bfba3"
      },
      "execution_count": null,
      "outputs": [
        {
          "output_type": "stream",
          "name": "stdout",
          "text": [
            "4\n",
            "0\n",
            "0\n",
            "152\n",
            "-25\n",
            "0\n",
            "3\n"
          ]
        }
      ]
    },
    {
      "cell_type": "markdown",
      "source": [
        "##Задача «Лесенка»"
      ],
      "metadata": {
        "id": "wHbTA73O9NXp"
      }
    },
    {
      "cell_type": "code",
      "source": [
        "end = int(input())\n",
        "string = ''\n",
        "\n",
        "for i in range(1, end+1):\n",
        "    string = string + str(i)\n",
        "    print(string)"
      ],
      "metadata": {
        "id": "_6Hck8B59NXq",
        "colab": {
          "base_uri": "https://localhost:8080/"
        },
        "outputId": "b74a17a1-9be0-4b50-cafd-a5ba7ebae764"
      },
      "execution_count": null,
      "outputs": [
        {
          "output_type": "stream",
          "name": "stdout",
          "text": [
            "9\n",
            "1\n",
            "12\n",
            "123\n",
            "1234\n",
            "12345\n",
            "123456\n",
            "1234567\n",
            "12345678\n",
            "123456789\n"
          ]
        }
      ]
    },
    {
      "cell_type": "markdown",
      "source": [
        "##Задача «Потерянная карточка»"
      ],
      "metadata": {
        "id": "Ezm57h9b9Naz"
      }
    },
    {
      "cell_type": "code",
      "source": [
        "quantity = int(input())\n",
        "\n",
        "hypotheticalSumm = sum(range(quantity+1))\n",
        "summ = 0\n",
        "\n",
        "for i in range(quantity-1):\n",
        "    summ = summ + int(input())\n",
        "\n",
        "missing = hypotheticalSumm - summ\n",
        "\n",
        "print(missing)"
      ],
      "metadata": {
        "id": "ERJE7tzY9Na0",
        "colab": {
          "base_uri": "https://localhost:8080/"
        },
        "outputId": "70ffbad4-1016-41ae-b171-d17f785a0e76"
      },
      "execution_count": null,
      "outputs": [
        {
          "output_type": "stream",
          "name": "stdout",
          "text": [
            "5\n",
            "1\n",
            "2\n",
            "4\n",
            "5\n",
            "3\n"
          ]
        }
      ]
    }
  ]
}