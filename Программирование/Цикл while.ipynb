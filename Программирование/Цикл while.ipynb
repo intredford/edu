{
  "nbformat": 4,
  "nbformat_minor": 0,
  "metadata": {
    "colab": {
      "provenance": []
    },
    "kernelspec": {
      "name": "python3",
      "display_name": "Python 3"
    },
    "language_info": {
      "name": "python"
    }
  },
  "cells": [
    {
      "cell_type": "markdown",
      "source": [
        "##Задача «Список квадратов»"
      ],
      "metadata": {
        "id": "9P8ImUfoY8Kh"
      }
    },
    {
      "cell_type": "code",
      "execution_count": null,
      "metadata": {
        "colab": {
          "base_uri": "https://localhost:8080/"
        },
        "id": "hhS9qxUOYrob",
        "outputId": "e7e4a473-7c72-4d27-f89d-c1d5f9ea1bc0"
      },
      "outputs": [
        {
          "output_type": "stream",
          "name": "stdout",
          "text": [
            "125\n",
            "1\n",
            "4\n",
            "9\n",
            "16\n",
            "25\n",
            "36\n",
            "49\n",
            "64\n",
            "81\n",
            "100\n",
            "121\n"
          ]
        }
      ],
      "source": [
        "biggest = int(input())\n",
        "i = 1\n",
        "\n",
        "while i**2 <= biggest:\n",
        "    print(i**2)\n",
        "    i = i + 1"
      ]
    },
    {
      "cell_type": "markdown",
      "source": [
        "##Задача «Минимальный делитель»"
      ],
      "metadata": {
        "id": "nHWiKhWoZCJT"
      }
    },
    {
      "cell_type": "code",
      "execution_count": null,
      "metadata": {
        "colab": {
          "base_uri": "https://localhost:8080/"
        },
        "id": "pPEQPjrXZCJW",
        "outputId": "20b86f90-8747-45c8-8ce9-333d14a33f8b"
      },
      "outputs": [
        {
          "output_type": "stream",
          "name": "stdout",
          "text": [
            "5735339\n",
            "179\n"
          ]
        }
      ],
      "source": [
        "number = int(input())\n",
        "i = 2\n",
        "\n",
        "while i <= number:\n",
        "    if number % i == 0:\n",
        "        print(i)\n",
        "        break\n",
        "    else:\n",
        "        i = i + 1"
      ]
    },
    {
      "cell_type": "markdown",
      "source": [
        "##Задача «Степень двойки»"
      ],
      "metadata": {
        "id": "DZVkthmQZCax"
      }
    },
    {
      "cell_type": "code",
      "execution_count": null,
      "metadata": {
        "colab": {
          "base_uri": "https://localhost:8080/"
        },
        "id": "MXezwvW3ZCaz",
        "outputId": "558f02f1-04b9-4245-9759-cb5f333e37ed"
      },
      "outputs": [
        {
          "output_type": "stream",
          "name": "stdout",
          "text": [
            "5011\n",
            "12 4096\n"
          ]
        }
      ],
      "source": [
        "from math import log\n",
        "\n",
        "number = int(input())\n",
        "\n",
        "if (number % 2 != 0) and number > 1:\n",
        "    number = number - 1 ## оптимизация для counter = counter - 2\n",
        "\n",
        "counter = number\n",
        "\n",
        "while counter >= 0:\n",
        "    if (counter & (counter - 1) == 0):\n",
        "        print(int(log(counter, 2)), counter)\n",
        "        break\n",
        "    else:\n",
        "        counter = counter - 2"
      ]
    },
    {
      "cell_type": "markdown",
      "source": [
        "##Задача «Утренняя пробежка»"
      ],
      "metadata": {
        "id": "-ZU1gytMZCgk"
      }
    },
    {
      "cell_type": "code",
      "execution_count": null,
      "metadata": {
        "colab": {
          "base_uri": "https://localhost:8080/"
        },
        "id": "-PdtnV3MZCgl",
        "outputId": "71f84d53-bf81-40b9-e8bc-66d012ea53b0"
      },
      "outputs": [
        {
          "output_type": "stream",
          "name": "stdout",
          "text": [
            "100\n",
            "125\n",
            "4\n"
          ]
        }
      ],
      "source": [
        "start = distance = int(input())\n",
        "end = int(input())\n",
        "ascend = 0.1\n",
        "day = 1\n",
        "\n",
        "while distance < end:\n",
        "    day = day + 1\n",
        "    distance = distance + distance * ascend\n",
        "\n",
        "print(day)"
      ]
    },
    {
      "cell_type": "markdown",
      "source": [
        "##Задача «Длина последовательности»"
      ],
      "metadata": {
        "id": "AxYzBRibZCmM"
      }
    },
    {
      "cell_type": "code",
      "execution_count": null,
      "metadata": {
        "colab": {
          "base_uri": "https://localhost:8080/"
        },
        "id": "Xs727087ZCmN",
        "outputId": "386c6915-5031-4733-d82d-acb7d27da6db"
      },
      "outputs": [
        {
          "output_type": "stream",
          "name": "stdout",
          "text": [
            "12\n",
            "5\n",
            "100\n",
            "512\n",
            "1024\n",
            "4096\n",
            "8192\n",
            "0\n",
            "7\n"
          ]
        }
      ],
      "source": [
        "counter = 0\n",
        "\n",
        "while int(input()) != 0:\n",
        "    counter = counter + 1\n",
        "\n",
        "print(counter)"
      ]
    },
    {
      "cell_type": "markdown",
      "source": [
        "##Задача «Сумма последовательности»"
      ],
      "metadata": {
        "id": "NXnWLyEkZCro"
      }
    },
    {
      "cell_type": "code",
      "execution_count": null,
      "metadata": {
        "colab": {
          "base_uri": "https://localhost:8080/"
        },
        "id": "WUPopEfbZCrp",
        "outputId": "be77e0bc-f759-47e0-eee6-62acbdbfab1c"
      },
      "outputs": [
        {
          "output_type": "stream",
          "name": "stdout",
          "text": [
            "5\n",
            "5\n",
            "3\n",
            "10\n",
            "0\n",
            "23\n"
          ]
        }
      ],
      "source": [
        "counter = 0\n",
        "summ = 0\n",
        "number = 1\n",
        "\n",
        "while number != 0:\n",
        "    number = int(input())\n",
        "    summ = summ + number\n",
        "    counter = counter + 1\n",
        "\n",
        "print(summ)"
      ]
    },
    {
      "cell_type": "markdown",
      "source": [
        "##Задача «Среднее значение последовательности»"
      ],
      "metadata": {
        "id": "qq9WCdpvZCwF"
      }
    },
    {
      "cell_type": "code",
      "execution_count": null,
      "metadata": {
        "colab": {
          "base_uri": "https://localhost:8080/"
        },
        "id": "mb5puO_JZCwG",
        "outputId": "9d955af4-efc2-4b33-bca8-15eb0d54eae9"
      },
      "outputs": [
        {
          "output_type": "stream",
          "name": "stdout",
          "text": [
            "2\n",
            "2\n",
            "6\n",
            "6\n",
            "2\n",
            "6\n",
            "0\n",
            "4.0\n"
          ]
        }
      ],
      "source": [
        "counter = -1\n",
        "summ = 0\n",
        "number = 1\n",
        "\n",
        "while number != 0:\n",
        "    number = int(input())\n",
        "    summ = summ + number\n",
        "    counter = counter + 1\n",
        "\n",
        "average = summ / counter\n",
        "print(average)"
      ]
    },
    {
      "cell_type": "markdown",
      "source": [
        "##Задача «Максимум последовательности»"
      ],
      "metadata": {
        "id": "3rkIF4-5ZC0M"
      }
    },
    {
      "cell_type": "code",
      "execution_count": null,
      "metadata": {
        "colab": {
          "base_uri": "https://localhost:8080/"
        },
        "id": "mP2x1GKtZC0N",
        "outputId": "dc2baca2-b155-47be-a285-bbb4a0256176"
      },
      "outputs": [
        {
          "output_type": "stream",
          "name": "stdout",
          "text": [
            "-10\n",
            "10\n",
            "100\n",
            "502\n",
            "-12\n",
            "9999\n",
            "0\n",
            "9999\n"
          ]
        }
      ],
      "source": [
        "from math import inf\n",
        "\n",
        "number = biggest = -inf\n",
        "\n",
        "while number != 0:\n",
        "    number = int(input())\n",
        "    if number > biggest:\n",
        "        biggest = number\n",
        "\n",
        "print(biggest)"
      ]
    },
    {
      "cell_type": "markdown",
      "source": [
        "##Задача «Индекс максимума последовательности»"
      ],
      "metadata": {
        "id": "VrTUyXIjZC5N"
      }
    },
    {
      "cell_type": "code",
      "execution_count": null,
      "metadata": {
        "colab": {
          "base_uri": "https://localhost:8080/"
        },
        "id": "5ZydLjbCZC5P",
        "outputId": "6984c6af-47f8-402f-e01f-ea2a69f701aa"
      },
      "outputs": [
        {
          "output_type": "stream",
          "name": "stdout",
          "text": [
            "-1\n",
            "1\n",
            "2\n",
            "3\n",
            "-100\n",
            "6\n",
            "0\n",
            "5\n"
          ]
        }
      ],
      "source": [
        "from math import inf\n",
        "\n",
        "number = biggest = -inf\n",
        "counter = -1\n",
        "\n",
        "while number != 0:\n",
        "    number = int(input())\n",
        "    counter = counter + 1\n",
        "    if number > biggest:\n",
        "        biggest = number\n",
        "        biggestCounter = counter\n",
        "\n",
        "print(biggestCounter)"
      ]
    },
    {
      "cell_type": "markdown",
      "source": [
        "##Задача «Количество четных элементов последовательности»"
      ],
      "metadata": {
        "id": "-n6iJZNiZC8C"
      }
    },
    {
      "cell_type": "code",
      "execution_count": null,
      "metadata": {
        "colab": {
          "base_uri": "https://localhost:8080/"
        },
        "id": "mE809qI3ZC8C",
        "outputId": "185d36f1-c77a-4219-a277-d6ad5e7ffe8c"
      },
      "outputs": [
        {
          "output_type": "stream",
          "name": "stdout",
          "text": [
            "5\n",
            "5\n",
            "2\n",
            "4\n",
            "9\n",
            "10\n",
            "0\n",
            "3\n"
          ]
        }
      ],
      "source": [
        "number = 1\n",
        "evens = 0\n",
        "\n",
        "while number != 0:\n",
        "    number = int(input())\n",
        "    if (number % 2 == 0) and number != 0:\n",
        "        evens = evens + 1\n",
        "\n",
        "print(evens)"
      ]
    },
    {
      "cell_type": "markdown",
      "source": [
        "##Задача «Количество элементов, которые больше предыдущего»"
      ],
      "metadata": {
        "id": "dX7LzA9eZDC1"
      }
    },
    {
      "cell_type": "code",
      "execution_count": null,
      "metadata": {
        "colab": {
          "base_uri": "https://localhost:8080/"
        },
        "id": "dyArLaS2ZDC2",
        "outputId": "7a5d94d5-7026-4055-ba16-2a7b455384bc"
      },
      "outputs": [
        {
          "output_type": "stream",
          "name": "stdout",
          "text": [
            "1\n",
            "2\n",
            "50\n",
            "49\n",
            "48\n",
            "0\n",
            "2\n"
          ]
        }
      ],
      "source": [
        "from math import inf\n",
        "previous = number = -inf\n",
        "counter = -1\n",
        "\n",
        "while number != 0:\n",
        "    number = int(input())\n",
        "    if number > previous:\n",
        "        counter = counter + 1\n",
        "    previous = number\n",
        "\n",
        "print(counter)"
      ]
    },
    {
      "cell_type": "markdown",
      "source": [
        "##Задача «Числа Фибоначчи»"
      ],
      "metadata": {
        "id": "PWTZmFAJZDG6"
      }
    },
    {
      "cell_type": "code",
      "execution_count": null,
      "metadata": {
        "id": "8dq3jZ5-ZDG6"
      },
      "outputs": [],
      "source": [
        "number = int(input())\n",
        "\n",
        "if number == 0:\n",
        "    print(0)\n",
        "else:\n",
        "    first = 0\n",
        "    second = 1\n",
        "\n",
        "    for i in range(2, number + 1):\n",
        "        first, second = second, first + second\n",
        "\n",
        "    print(second)"
      ]
    }
  ]
}