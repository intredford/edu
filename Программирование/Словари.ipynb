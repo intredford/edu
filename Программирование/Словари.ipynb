{
  "nbformat": 4,
  "nbformat_minor": 0,
  "metadata": {
    "colab": {
      "provenance": []
    },
    "kernelspec": {
      "name": "python3",
      "display_name": "Python 3"
    },
    "language_info": {
      "name": "python"
    }
  },
  "cells": [
    {
      "cell_type": "markdown",
      "source": [
        "#Задача «Номер появления слова»"
      ],
      "metadata": {
        "id": "uwcgSzcUniLu"
      }
    },
    {
      "cell_type": "code",
      "execution_count": null,
      "metadata": {
        "colab": {
          "base_uri": "https://localhost:8080/"
        },
        "id": "jW9TbPtPniLw",
        "outputId": "a88da89e-b795-4b99-e048-bc0bf42992b8"
      },
      "outputs": [
        {
          "output_type": "stream",
          "name": "stdout",
          "text": [
            "Корабли лавировали лавировали лавировали лавировали да не выловировали\n",
            "{'Корабли': 1, 'лавировали': 4, 'да': 1, 'не': 1, 'выловировали': 1}\n"
          ]
        }
      ],
      "source": [
        "text = input()\n",
        "words = text.split(' ')\n",
        "frequency = dict()\n",
        "\n",
        "for word in words:\n",
        "    if word not in frequency:\n",
        "        frequency[word] = words.count(word)\n",
        "\n",
        "print(frequency)"
      ]
    },
    {
      "cell_type": "markdown",
      "source": [
        "#Задача «Словарь синонимов»"
      ],
      "metadata": {
        "id": "DcVzfu87np7K"
      }
    },
    {
      "cell_type": "code",
      "execution_count": null,
      "metadata": {
        "colab": {
          "base_uri": "https://localhost:8080/"
        },
        "id": "IKq0xfHsnp7L",
        "outputId": "87aec1a6-8d5e-4545-8763-702da6cc4490"
      },
      "outputs": [
        {
          "output_type": "stream",
          "name": "stdout",
          "text": [
            "3\n",
            "белый светлый\n",
            "чёрный тёмный\n",
            "красный алый\n",
            "алый\n",
            "красный\n"
          ]
        }
      ],
      "source": [
        "dictionary = dict()\n",
        "\n",
        "for i in range(int(input())):\n",
        "    entry = input().split(' ')\n",
        "    dictionary[entry[0]] = entry[1]\n",
        "\n",
        "query = input()\n",
        "\n",
        "for key, val in dictionary.items():\n",
        "    if key == query:\n",
        "        print(dictionary[key])\n",
        "    elif val == query:\n",
        "        print(key)"
      ]
    },
    {
      "cell_type": "markdown",
      "source": [
        "#Задача «Выборы в США»"
      ],
      "metadata": {
        "id": "pBCUqf41nqEL"
      }
    },
    {
      "cell_type": "code",
      "execution_count": null,
      "metadata": {
        "colab": {
          "base_uri": "https://localhost:8080/"
        },
        "id": "Po2877Y7nqEP",
        "outputId": "8be4e1af-2cf4-4672-c8a4-2b1125a8ed9a"
      },
      "outputs": [
        {
          "output_type": "stream",
          "name": "stdout",
          "text": [
            "4\n",
            "Obama 15\n",
            "McCain 2\n",
            "McCain 16\n",
            "Obama 4\n",
            "{'Obama': 19, 'McCain': 18}\n"
          ]
        }
      ],
      "source": [
        "d = dict()\n",
        "count = int(input())\n",
        "entries = list()\n",
        "\n",
        "for i in range(count):\n",
        "    entry = input().split(' ')\n",
        "    entries.append(entry)\n",
        "    d[entry[0]] = 0\n",
        "\n",
        "for entry in entries:\n",
        "    d[entry[0]] += int(entry[1])\n",
        "\n",
        "print(d)"
      ]
    },
    {
      "cell_type": "markdown",
      "source": [
        "#Задача «Самое частое слово»\n",
        "Не очень понял, при чём тут словари"
      ],
      "metadata": {
        "id": "_BmXCKzInqI_"
      }
    },
    {
      "cell_type": "code",
      "execution_count": null,
      "metadata": {
        "id": "zNoDepDgnqJC"
      },
      "outputs": [],
      "source": [
        "text = \"\"\n",
        "frequent = {\"value\": '', 'count': 0}\n",
        "\n",
        "for i in range(int(input())):\n",
        "    text += input() + ' '\n",
        "\n",
        "words = sorted(text.split(' '))\n",
        "if (words[0] == ''):\n",
        "    del words[0]\n",
        "\n",
        "for word in set(words):\n",
        "    count = words.count(word)\n",
        "    if count > frequent['count']:\n",
        "        frequent['count'] = count\n",
        "        frequent['value'] = word\n",
        "\n",
        "print(frequent['value'])"
      ]
    },
    {
      "cell_type": "markdown",
      "source": [
        "#Задача «Права доступа»"
      ],
      "metadata": {
        "id": "XMGF-l0nnqNH"
      }
    },
    {
      "cell_type": "code",
      "execution_count": null,
      "metadata": {
        "id": "xbqosE0pnqNI"
      },
      "outputs": [],
      "source": [
        "permissions = {}\n",
        "actions = {\"read\": \"R\", \"write\": \"W\", \"execute\": \"X\"}\n",
        "\n",
        "for i in range(int(input())):\n",
        "    file = input()\n",
        "    props = file.split(' ')\n",
        "    permissions[props[0]] = props[1:]\n",
        "\n",
        "for i in range(int(input())):\n",
        "    query = input()\n",
        "    props = query.split(' ')\n",
        "    if actions[props[0]] in permissions[props[1]]:\n",
        "        print('OK')\n",
        "    else:\n",
        "        print('ACCESS DENIED')"
      ]
    },
    {
      "cell_type": "markdown",
      "source": [
        "#Задача «Частотный анализ»"
      ],
      "metadata": {
        "id": "jHEy1cfUnqRY"
      }
    },
    {
      "cell_type": "code",
      "execution_count": null,
      "metadata": {
        "id": "uuk4gqpPnqRY"
      },
      "outputs": [],
      "source": [
        "text = \"\"\n",
        "frequency = []\n",
        "\n",
        "for i in range(int(input())):\n",
        "    text += input() + ' '\n",
        "\n",
        "words = sorted(text.split(' '))\n",
        "if (words[0] == ''):\n",
        "    del words[0]\n",
        "\n",
        "for word in set(words):\n",
        "    frequency.append((words.count(word), word))\n",
        "\n",
        "frequency = sorted(frequency, reverse=True)\n",
        "for i in frequency:\n",
        "    print(i[1])"
      ]
    },
    {
      "cell_type": "markdown",
      "source": [
        "#Задача «Страны и города»"
      ],
      "metadata": {
        "id": "_Io8o0WlnqUM"
      }
    },
    {
      "cell_type": "code",
      "execution_count": null,
      "metadata": {
        "id": "b19kyzf5nqUM"
      },
      "outputs": [],
      "source": [
        "cities = {}\n",
        "\n",
        "for i in range(int(input())):\n",
        "    places = input().split(' ')\n",
        "    for city in places[1:]:\n",
        "        cities[city] = places[0]\n",
        "\n",
        "for i in range(int(input())):\n",
        "    print(cities[input()])"
      ]
    },
    {
      "cell_type": "markdown",
      "source": [
        "#Задача «Англо-латинский словарь»"
      ],
      "metadata": {
        "id": "vO_5KF7CnqYc"
      }
    },
    {
      "cell_type": "code",
      "execution_count": null,
      "metadata": {
        "id": "ZNj7_UNsnqYc"
      },
      "outputs": [],
      "source": [
        "dictionary = {}\n",
        "\n",
        "for i in range(int(input())):\n",
        "    entry = input().split(' - ')\n",
        "    subject = entry[0]\n",
        "    translations = entry[1].split(', ')\n",
        "\n",
        "    for translation in sorted(translations):\n",
        "        if translation not in dictionary:\n",
        "            dictionary[translation] = [subject]\n",
        "        else:\n",
        "            dictionary[translation].append(subject)\n",
        "\n",
        "dictionary = dict(sorted(dictionary.items()))\n",
        "\n",
        "for key, values in dictionary.items():\n",
        "    print('{0} - {1}'.format(key, ', '.join(values)))"
      ]
    },
    {
      "cell_type": "markdown",
      "source": [
        "#Задача «Продажи»\n",
        "Чтобы завершить ввод, нужно ввести `end`\n"
      ],
      "metadata": {
        "id": "VGRsoRxTnqbl"
      }
    },
    {
      "cell_type": "code",
      "execution_count": null,
      "metadata": {
        "id": "DTrixKGFnqbl"
      },
      "outputs": [],
      "source": [
        "database = {}\n",
        "\n",
        "while True:\n",
        "    order = input().split(' ')\n",
        "    if len(order) < 3:\n",
        "        break\n",
        "\n",
        "    if order[0] not in database:\n",
        "        database[order[0]] = {order[1]: int(order[2])}\n",
        "    else:\n",
        "        if order[1] not in database[order[0]]:\n",
        "            database[order[0]][order[1]] = int(order[2])\n",
        "        else:\n",
        "            database[order[0]][order[1]] += int(order[2])\n",
        "\n",
        "for client in database:\n",
        "    database[client] = dict(sorted(database[client].items()))\n",
        "\n",
        "print(database)"
      ]
    }
  ]
}