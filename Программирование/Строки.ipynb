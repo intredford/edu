{
  "nbformat": 4,
  "nbformat_minor": 0,
  "metadata": {
    "colab": {
      "provenance": []
    },
    "kernelspec": {
      "name": "python3",
      "display_name": "Python 3"
    },
    "language_info": {
      "name": "python"
    }
  },
  "cells": [
    {
      "cell_type": "markdown",
      "source": [
        "#Занятие 5: строки"
      ],
      "metadata": {
        "id": "3slnU8-baY7B"
      }
    },
    {
      "cell_type": "markdown",
      "source": [
        "##Задача «Делаем срезы»"
      ],
      "metadata": {
        "id": "pAFc5bNVaZOS"
      }
    },
    {
      "cell_type": "code",
      "source": [
        "str = input()\n",
        "\n",
        "print(str[2])\n",
        "print(str[-2])\n",
        "print(str[0:5])\n",
        "print(str[0:len(str)-2])\n",
        "print(str[0:len(str):2])\n",
        "print(str[1:len(str):2])\n",
        "print(str[::-1])\n",
        "print(str[::-2])\n",
        "print(len(str))"
      ],
      "metadata": {
        "colab": {
          "base_uri": "https://localhost:8080/"
        },
        "id": "4Tg0PPwmaZlN",
        "outputId": "bdfbd998-985f-477a-d779-e09bd9f6d42c"
      },
      "execution_count": null,
      "outputs": [
        {
          "output_type": "stream",
          "name": "stdout",
          "text": [
            "Абракадабра\n",
            "р\n",
            "р\n",
            "Абрак\n",
            "Абракадаб\n",
            "Аркдба\n",
            "бааар\n",
            "арбадакарбА\n",
            "абдкрА\n",
            "11\n"
          ]
        }
      ]
    },
    {
      "cell_type": "markdown",
      "source": [
        "##Задача «Количество слов»"
      ],
      "metadata": {
        "id": "w0bBVwKdcESo"
      }
    },
    {
      "cell_type": "code",
      "source": [
        "print(input().count(' ')+1)"
      ],
      "metadata": {
        "colab": {
          "base_uri": "https://localhost:8080/"
        },
        "outputId": "2495a05d-8b11-4af2-e1d4-e4f4f9e7a5ca",
        "id": "oAqD8t2UcESr"
      },
      "execution_count": null,
      "outputs": [
        {
          "output_type": "stream",
          "name": "stdout",
          "text": [
            "Это три слова.\n",
            "3\n"
          ]
        }
      ]
    },
    {
      "cell_type": "markdown",
      "source": [
        "##Задача «Две половинки»"
      ],
      "metadata": {
        "id": "7V5XVHUwdk2S"
      }
    },
    {
      "cell_type": "code",
      "source": [
        "from math import ceil\n",
        "from math import floor\n",
        "\n",
        "str = input()\n",
        "middle = ceil(len(str)/2)\n",
        "\n",
        "print(str[middle:len(str)], str[0:middle], sep=\"\")"
      ],
      "metadata": {
        "colab": {
          "base_uri": "https://localhost:8080/"
        },
        "id": "j_6g4VMKdlAs",
        "outputId": "bbfd4117-8f92-4aab-89fe-23ec648870e7"
      },
      "execution_count": null,
      "outputs": [
        {
          "output_type": "stream",
          "name": "stdout",
          "text": [
            "Барабан\n",
            "банБара\n"
          ]
        }
      ]
    },
    {
      "cell_type": "markdown",
      "source": [
        "##Задача «Переставить два слова»"
      ],
      "metadata": {
        "id": "CnS0WhssrPct"
      }
    },
    {
      "cell_type": "code",
      "source": [
        "str = input()\n",
        "\n",
        "print(' '.join(reversed(str.split(' '))))"
      ],
      "metadata": {
        "colab": {
          "base_uri": "https://localhost:8080/"
        },
        "id": "McKtnZJOrPpW",
        "outputId": "381eb095-881a-4b51-ae61-965ec856a79d"
      },
      "execution_count": null,
      "outputs": [
        {
          "output_type": "stream",
          "name": "stdout",
          "text": [
            "Два слова\n",
            "слова Два\n"
          ]
        }
      ]
    },
    {
      "cell_type": "markdown",
      "source": [
        "##Задача «Первое и последнее вхождения»"
      ],
      "metadata": {
        "id": "Rehpde7uslYA"
      }
    },
    {
      "cell_type": "code",
      "source": [
        "str = input()\n",
        "\n",
        "first = str.find('f')\n",
        "last = str.rfind('f')\n",
        "\n",
        "if first != -1:\n",
        "    print(first)\n",
        "    if first != last:\n",
        "        print(last)"
      ],
      "metadata": {
        "colab": {
          "base_uri": "https://localhost:8080/"
        },
        "id": "ZR1J1jdjslwQ",
        "outputId": "6bd3e693-a0a2-4134-9c4e-517d4c771e0e"
      },
      "execution_count": null,
      "outputs": [
        {
          "output_type": "stream",
          "name": "stdout",
          "text": [
            "fanfares\n",
            "0\n",
            "3\n"
          ]
        }
      ]
    },
    {
      "cell_type": "markdown",
      "source": [
        "##Задача «Второе вхождение»"
      ],
      "metadata": {
        "id": "mk8eufZethag"
      }
    },
    {
      "cell_type": "code",
      "source": [
        "str = input()\n",
        "\n",
        "entries = str.count('f')\n",
        "if entries == 0:\n",
        "    print(-2)\n",
        "elif entries == 1:\n",
        "    print(-1)\n",
        "else:\n",
        "    print(str.find('f', str.find('f')+1))"
      ],
      "metadata": {
        "colab": {
          "base_uri": "https://localhost:8080/"
        },
        "id": "5rdb9r2Ythny",
        "outputId": "cb617771-0382-4fa5-f385-06f379891fe3"
      },
      "execution_count": null,
      "outputs": [
        {
          "output_type": "stream",
          "name": "stdout",
          "text": [
            "free fast food\n",
            "5\n"
          ]
        }
      ]
    },
    {
      "cell_type": "markdown",
      "source": [
        "##Задача «Удаление фрагмента»"
      ],
      "metadata": {
        "id": "ZbZ_KUlIu8Dg"
      }
    },
    {
      "cell_type": "code",
      "source": [
        "str = input()\n",
        "\n",
        "first = str.find('h')\n",
        "last = str.rfind('h')\n",
        "\n",
        "print(str[:first] + str[last+1:])"
      ],
      "metadata": {
        "colab": {
          "base_uri": "https://localhost:8080/"
        },
        "id": "8yo4SMJ-u8Ya",
        "outputId": "f0e52399-b1cc-48e1-cc8f-65c042209cbf"
      },
      "execution_count": null,
      "outputs": [
        {
          "output_type": "stream",
          "name": "stdout",
          "text": [
            "She is a hobo\n",
            "Sobo\n"
          ]
        }
      ]
    },
    {
      "cell_type": "markdown",
      "source": [
        "##Задача «Обращение фрагмента»"
      ],
      "metadata": {
        "id": "QDKrKpGXwRsU"
      }
    },
    {
      "cell_type": "code",
      "source": [
        "str = input()\n",
        "\n",
        "first = str.find('h')\n",
        "last = str.rfind('h')\n",
        "\n",
        "print(str[:first+1] + '|' + str[first+1:last][::-1] + '|' + str[last:])"
      ],
      "metadata": {
        "colab": {
          "base_uri": "https://localhost:8080/"
        },
        "id": "teuc1pEwwR3k",
        "outputId": "6934423f-cab4-4b34-dbda-6f767e7bd5af"
      },
      "execution_count": null,
      "outputs": [
        {
          "output_type": "stream",
          "name": "stdout",
          "text": [
            "In the hole in the ground there lived a hobbit\n",
            "In th| a devil ereht dnuorg eht ni eloh e|hobbit\n"
          ]
        }
      ]
    },
    {
      "cell_type": "markdown",
      "source": [
        "##Задача «Замена подстроки»"
      ],
      "metadata": {
        "id": "VDCfrdgqxhvi"
      }
    },
    {
      "cell_type": "code",
      "source": [
        "print(input().replace('1', 'one'))"
      ],
      "metadata": {
        "colab": {
          "base_uri": "https://localhost:8080/"
        },
        "id": "nYTKqr-0xh7U",
        "outputId": "f89cee85-afce-4bb6-8bb0-655861511cec"
      },
      "execution_count": null,
      "outputs": [
        {
          "output_type": "stream",
          "name": "stdout",
          "text": [
            "Ахахах лол!11!!!1!!!\n",
            "Ахахах лол!oneone!!!one!!!\n"
          ]
        }
      ]
    },
    {
      "cell_type": "markdown",
      "source": [
        "##Задача «Удаление символа»"
      ],
      "metadata": {
        "id": "VFK6iSE-x5WF"
      }
    },
    {
      "cell_type": "code",
      "source": [
        "print(input().replace('@', ''))"
      ],
      "metadata": {
        "colab": {
          "base_uri": "https://localhost:8080/"
        },
        "id": "XyJPgZTJx5lg",
        "outputId": "36f5ba41-c20e-4062-c384-8de2bfe43a46"
      },
      "execution_count": null,
      "outputs": [
        {
          "output_type": "stream",
          "name": "stdout",
          "text": [
            "1@2@@3@@@4@@@@5@@@@@6@@@@@@7\n",
            "1234567\n"
          ]
        }
      ]
    },
    {
      "cell_type": "markdown",
      "source": [
        "##Задача «Замена внутри фрагмента»"
      ],
      "metadata": {
        "id": "SmviZqtlyHwX"
      }
    },
    {
      "cell_type": "code",
      "source": [
        "str = input()\n",
        "\n",
        "first = str.find('h')\n",
        "last = str.rfind('h')\n",
        "\n",
        "str = str[:first+1] + str[first+1:last].replace('h', 'H') + str[last:]\n",
        "\n",
        "print(str)"
      ],
      "metadata": {
        "id": "2kyfl3DryIAi",
        "colab": {
          "base_uri": "https://localhost:8080/"
        },
        "outputId": "3bb92d15-b89d-402d-e373-4a4ebebad784"
      },
      "execution_count": null,
      "outputs": [
        {
          "output_type": "stream",
          "name": "stdout",
          "text": [
            "ahahahahahaha\n",
            "ahaHaHaHaHaha\n"
          ]
        }
      ]
    },
    {
      "cell_type": "markdown",
      "source": [
        "##Задача «Удалить каждый третий символ»"
      ],
      "metadata": {
        "id": "frU9z6ajzH4S"
      }
    },
    {
      "cell_type": "code",
      "source": [
        "str = input()\n",
        "newStr= \"\"\n",
        "first = 1\n",
        "second = 3\n",
        "\n",
        "while second <= len(str)+3:\n",
        "    newStr += str[first:second]\n",
        "    first += 3\n",
        "    second += 3\n",
        "\n",
        "print(newStr)"
      ],
      "metadata": {
        "colab": {
          "base_uri": "https://localhost:8080/"
        },
        "id": "Y38VPFk8zIGA",
        "outputId": "bfbf656b-a1e3-4b13-b48f-f796c3760fcf"
      },
      "execution_count": null,
      "outputs": [
        {
          "output_type": "stream",
          "name": "stdout",
          "text": [
            "/АБ╧ВГ~ДЕ○ЁЖ☺ЗИ☻КЛ=МН(ОП\"РС—ТУ\n",
            "АБВГДЕЁЖЗИКЛМНОПРСТУ\n"
          ]
        }
      ]
    }
  ]
}